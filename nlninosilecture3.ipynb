{
 "cells": [
  {
   "cell_type": "markdown",
   "metadata": {},
   "source": [
    "# Introduction to NumPy\n",
    "by Maxwell Margenot\n",
    "\n",
    "Part of the Quantopian Lecture Series:\n",
    "\n",
    "* [www.quantopian.com/lectures](https://www.quantopian.com/lectures)\n",
    "* [github.com/quantopian/research_public](https://github.com/quantopian/research_public)\n",
    "\n",
    "Notebook released under the Creative Commons Attribution 4.0 License."
   ]
  },
  {
   "cell_type": "markdown",
   "metadata": {},
   "source": [
    "NumPy is an incredibly powerful package in Python that is ubiquitous throughout the Quantopian platform. It has strong integration with Pandas, another tool we will be covering in the lecture series. NumPy adds support for multi-dimensional arrays and mathematical functions that allow you to easily perform linear algebra calculations. This lecture will be a collection of linear algebra examples computed using NumPy."
   ]
  },
  {
   "cell_type": "code",
   "execution_count": 1,
   "metadata": {},
   "outputs": [],
   "source": [
    "import numpy as np\n",
    "import matplotlib.pyplot as plt"
   ]
  },
  {
   "cell_type": "code",
   "execution_count": 2,
   "metadata": {},
   "outputs": [],
   "source": [
    "import numpy as nump\n",
    "import matplotlib.pyplot as plot"
   ]
  },
  {
   "cell_type": "markdown",
   "metadata": {},
   "source": [
    "### Basic NumPy arrays"
   ]
  },
  {
   "cell_type": "markdown",
   "metadata": {},
   "source": [
    "The most basic way that we could make use of NumPy in finance is calculating the mean return of a portfolio. Say that we have a list containing the historical return of several stocks."
   ]
  },
  {
   "cell_type": "code",
   "execution_count": 3,
   "metadata": {},
   "outputs": [],
   "source": [
    "stock_list = [3.5, 5, 2, 8, 4.2]"
   ]
  },
  {
   "cell_type": "code",
   "execution_count": 4,
   "metadata": {},
   "outputs": [],
   "source": [
    "axion=[7.2,4,2.3,6.4,7.5,2,5,1,3]"
   ]
  },
  {
   "cell_type": "markdown",
   "metadata": {},
   "source": [
    "We can make an array by calling a function on the list:"
   ]
  },
  {
   "cell_type": "code",
   "execution_count": 5,
   "metadata": {},
   "outputs": [
    {
     "name": "stdout",
     "output_type": "stream",
     "text": [
      "[ 3.5  5.   2.   8.   4.2] <class 'numpy.ndarray'>\n"
     ]
    }
   ],
   "source": [
    "returns = np.array(stock_list)\n",
    "print returns, type(returns)"
   ]
  },
  {
   "cell_type": "code",
   "execution_count": 6,
   "metadata": {},
   "outputs": [
    {
     "name": "stdout",
     "output_type": "stream",
     "text": [
      "[ 7.2  4.   2.3  6.4  7.5  2.   5.   1.   3. ] <class 'numpy.ndarray'>\n"
     ]
    }
   ],
   "source": [
    "ret= nump.array(axion)\n",
    "print ret, type(ret)"
   ]
  },
  {
   "cell_type": "markdown",
   "metadata": {},
   "source": [
    "You'll notice that the type of our array is 'ndarray', not just 'array'. This is because NumPy arrays can be created with multiple dimensions. If we pass np.array() a list of lists, it will create a 2-dimensional array. If we pass a list of lists of lists, it will create a 3-dimensional array, and so on and so forth."
   ]
  },
  {
   "cell_type": "code",
   "execution_count": 7,
   "metadata": {},
   "outputs": [
    {
     "name": "stdout",
     "output_type": "stream",
     "text": [
      "[[1 2]\n",
      " [3 4]] <class 'numpy.ndarray'>\n"
     ]
    }
   ],
   "source": [
    "A = np.array([[1, 2], [3, 4]])\n",
    "print A, type(A)"
   ]
  },
  {
   "cell_type": "code",
   "execution_count": 8,
   "metadata": {},
   "outputs": [
    {
     "name": "stdout",
     "output_type": "stream",
     "text": [
      "[[ 7  9]\n",
      " [ 4  2]\n",
      " [67  4]] <class 'numpy.ndarray'>\n"
     ]
    }
   ],
   "source": [
    "B = nump.array([[7,9], [4,2],[67,4]])\n",
    "print B, type (B)"
   ]
  },
  {
   "cell_type": "markdown",
   "metadata": {},
   "source": [
    "We can access the dimensions of an array by looking at its `shape` member variable."
   ]
  },
  {
   "cell_type": "code",
   "execution_count": 9,
   "metadata": {},
   "outputs": [
    {
     "name": "stdout",
     "output_type": "stream",
     "text": [
      "(2, 2)\n"
     ]
    }
   ],
   "source": [
    "print A.shape"
   ]
  },
  {
   "cell_type": "code",
   "execution_count": 10,
   "metadata": {},
   "outputs": [
    {
     "name": "stdout",
     "output_type": "stream",
     "text": [
      "(3, 2)\n"
     ]
    }
   ],
   "source": [
    "print B.shape"
   ]
  },
  {
   "cell_type": "markdown",
   "metadata": {},
   "source": [
    "Arrays are indexed in much the same way as lists in Python. Elements of a list begin indexing from $0$ and end at $n - 1$, where $n$ is the length of the array."
   ]
  },
  {
   "cell_type": "code",
   "execution_count": 11,
   "metadata": {},
   "outputs": [
    {
     "name": "stdout",
     "output_type": "stream",
     "text": [
      "3.5 4.2\n"
     ]
    }
   ],
   "source": [
    "print returns[0], returns[len(returns) - 1]"
   ]
  },
  {
   "cell_type": "code",
   "execution_count": 12,
   "metadata": {},
   "outputs": [
    {
     "name": "stdout",
     "output_type": "stream",
     "text": [
      "7.2 3.0\n"
     ]
    }
   ],
   "source": [
    "print ret[0], ret[len(ret)-1]"
   ]
  },
  {
   "cell_type": "markdown",
   "metadata": {},
   "source": [
    "We can take a slice of an array using a colon, just like in a list."
   ]
  },
  {
   "cell_type": "code",
   "execution_count": 13,
   "metadata": {},
   "outputs": [
    {
     "name": "stdout",
     "output_type": "stream",
     "text": [
      "[ 5.  2.]\n"
     ]
    }
   ],
   "source": [
    "print returns[1:3]"
   ]
  },
  {
   "cell_type": "code",
   "execution_count": 14,
   "metadata": {},
   "outputs": [
    {
     "name": "stdout",
     "output_type": "stream",
     "text": [
      "[ 5.  1.  3.]\n"
     ]
    }
   ],
   "source": [
    "print ret[6:9]"
   ]
  },
  {
   "cell_type": "markdown",
   "metadata": {},
   "source": [
    "A slice of an array, like in a list, will select a group of elements in the array starting from the first element indicated and going up to (but not including) the last element indicated.\n",
    "\n",
    "In the case of multidimensional arrays, many of the same conventions with slicing and indexing hold. We can access the first column of a 2-dimensional array like so:"
   ]
  },
  {
   "cell_type": "code",
   "execution_count": 15,
   "metadata": {},
   "outputs": [
    {
     "name": "stdout",
     "output_type": "stream",
     "text": [
      "[1 3]\n"
     ]
    }
   ],
   "source": [
    "print A[:, 0]"
   ]
  },
  {
   "cell_type": "code",
   "execution_count": 16,
   "metadata": {},
   "outputs": [
    {
     "name": "stdout",
     "output_type": "stream",
     "text": [
      "[9 2 4]\n"
     ]
    }
   ],
   "source": [
    "print  B[:,1]"
   ]
  },
  {
   "cell_type": "markdown",
   "metadata": {},
   "source": [
    "And the first row of a 2-dimensional array like so:"
   ]
  },
  {
   "cell_type": "code",
   "execution_count": 17,
   "metadata": {},
   "outputs": [
    {
     "name": "stdout",
     "output_type": "stream",
     "text": [
      "[1 2]\n"
     ]
    }
   ],
   "source": [
    "print A[0, :]"
   ]
  },
  {
   "cell_type": "code",
   "execution_count": 18,
   "metadata": {},
   "outputs": [
    {
     "name": "stdout",
     "output_type": "stream",
     "text": [
      "[67  4]\n"
     ]
    }
   ],
   "source": [
    "print B[2,:]"
   ]
  },
  {
   "cell_type": "markdown",
   "metadata": {},
   "source": [
    "Notice that each slice of the array returns yet another array!"
   ]
  },
  {
   "cell_type": "code",
   "execution_count": 19,
   "metadata": {},
   "outputs": [
    {
     "name": "stdout",
     "output_type": "stream",
     "text": [
      "<class 'numpy.ndarray'>\n"
     ]
    }
   ],
   "source": [
    "print type(A[0,:])"
   ]
  },
  {
   "cell_type": "code",
   "execution_count": 20,
   "metadata": {},
   "outputs": [
    {
     "name": "stdout",
     "output_type": "stream",
     "text": [
      "<class 'numpy.ndarray'>\n"
     ]
    }
   ],
   "source": [
    "print type(B[1,:])"
   ]
  },
  {
   "cell_type": "markdown",
   "metadata": {},
   "source": [
    "Passing only one index to a 2-dimensional array will result in returning the row with the given index as well, providing us with another way to access individual rows."
   ]
  },
  {
   "cell_type": "code",
   "execution_count": 21,
   "metadata": {},
   "outputs": [
    {
     "name": "stdout",
     "output_type": "stream",
     "text": [
      "[1 2]\n"
     ]
    }
   ],
   "source": [
    "print A[0]"
   ]
  },
  {
   "cell_type": "code",
   "execution_count": 22,
   "metadata": {},
   "outputs": [
    {
     "name": "stdout",
     "output_type": "stream",
     "text": [
      "[7 9]\n"
     ]
    }
   ],
   "source": [
    "print B[0]"
   ]
  },
  {
   "cell_type": "markdown",
   "metadata": {},
   "source": [
    "Accessing the index of an individual element will return only the element."
   ]
  },
  {
   "cell_type": "code",
   "execution_count": 23,
   "metadata": {},
   "outputs": [
    {
     "name": "stdout",
     "output_type": "stream",
     "text": [
      "4\n"
     ]
    }
   ],
   "source": [
    "print A[1, 1]"
   ]
  },
  {
   "cell_type": "code",
   "execution_count": 24,
   "metadata": {},
   "outputs": [
    {
     "name": "stdout",
     "output_type": "stream",
     "text": [
      "4\n"
     ]
    }
   ],
   "source": [
    "print B[2,1]"
   ]
  },
  {
   "cell_type": "markdown",
   "metadata": {},
   "source": [
    "#### Array functions\n",
    "\n",
    "Functions built into NumPy can be easily called on arrays. Most functions are applied to an array element-wise (as scalar multiplication is). For example, if we call `log()` on an array, the logarithm will be taken of each element."
   ]
  },
  {
   "cell_type": "code",
   "execution_count": 25,
   "metadata": {},
   "outputs": [
    {
     "name": "stdout",
     "output_type": "stream",
     "text": [
      "[ 1.25276297  1.60943791  0.69314718  2.07944154  1.43508453]\n"
     ]
    }
   ],
   "source": [
    "print np.log(returns)"
   ]
  },
  {
   "cell_type": "code",
   "execution_count": 26,
   "metadata": {},
   "outputs": [
    {
     "name": "stdout",
     "output_type": "stream",
     "text": [
      "[ 1.97408103  1.38629436  0.83290912  1.85629799  2.01490302  0.69314718\n",
      "  1.60943791  0.          1.09861229]\n"
     ]
    }
   ],
   "source": [
    "print nump.log(ret)"
   ]
  },
  {
   "cell_type": "markdown",
   "metadata": {},
   "source": [
    "Some functions return a single value. This is because they treat the array as a collection (similar to a list), performing the designated function. For example, the `mean()` function will do exactly what you expect, calculating the mean of an array."
   ]
  },
  {
   "cell_type": "code",
   "execution_count": 27,
   "metadata": {},
   "outputs": [
    {
     "name": "stdout",
     "output_type": "stream",
     "text": [
      "4.54\n"
     ]
    }
   ],
   "source": [
    "print np.mean(returns)"
   ]
  },
  {
   "cell_type": "code",
   "execution_count": 28,
   "metadata": {},
   "outputs": [
    {
     "name": "stdout",
     "output_type": "stream",
     "text": [
      "4.26666666667\n"
     ]
    }
   ],
   "source": [
    "print nump.mean(ret)"
   ]
  },
  {
   "cell_type": "markdown",
   "metadata": {},
   "source": [
    "Or the `max()` function will return the maximum element of an array."
   ]
  },
  {
   "cell_type": "code",
   "execution_count": 29,
   "metadata": {},
   "outputs": [
    {
     "name": "stdout",
     "output_type": "stream",
     "text": [
      "8.0\n"
     ]
    }
   ],
   "source": [
    "print np.max(returns)"
   ]
  },
  {
   "cell_type": "code",
   "execution_count": 30,
   "metadata": {},
   "outputs": [
    {
     "name": "stdout",
     "output_type": "stream",
     "text": [
      "7.5\n"
     ]
    }
   ],
   "source": [
    "print nump.max(ret)"
   ]
  },
  {
   "cell_type": "markdown",
   "metadata": {},
   "source": [
    "For further reading on the universal functions in NumPy, check out the [documentation](https://docs.scipy.org/doc/numpy/user/quickstart.html#universal-functions)."
   ]
  },
  {
   "cell_type": "markdown",
   "metadata": {},
   "source": [
    "### Return to the returns\n",
    "\n",
    "Now let's modify our returns array with scalar values. If we add a scalar value to an array it will be added to every element of the array. If we multiply an array by a scalar value it will be multiplied against every element of the array. If we do both, both will happen!"
   ]
  },
  {
   "cell_type": "code",
   "execution_count": 31,
   "metadata": {
    "scrolled": false
   },
   "outputs": [
    {
     "data": {
      "text/plain": [
       "array([ 12. ,  15. ,   9. ,  21. ,  13.4])"
      ]
     },
     "execution_count": 31,
     "metadata": {},
     "output_type": "execute_result"
    }
   ],
   "source": [
    "returns*2 + 5"
   ]
  },
  {
   "cell_type": "code",
   "execution_count": 32,
   "metadata": {},
   "outputs": [
    {
     "data": {
      "text/plain": [
       "array([ 13.        ,   7.66666667,   4.83333333,  11.66666667,\n",
       "        13.5       ,   4.33333333,   9.33333333,   2.66666667,   6.        ])"
      ]
     },
     "execution_count": 32,
     "metadata": {},
     "output_type": "execute_result"
    }
   ],
   "source": [
    "ret*5/3+1"
   ]
  },
  {
   "cell_type": "markdown",
   "metadata": {},
   "source": [
    "NumPy also has functions specifically built to operate on arrays. Let's take the mean and standard deviation of this group of returns."
   ]
  },
  {
   "cell_type": "code",
   "execution_count": 33,
   "metadata": {},
   "outputs": [
    {
     "name": "stdout",
     "output_type": "stream",
     "text": [
      "Mean:  4.54 Std Dev:  1.99158228552\n"
     ]
    }
   ],
   "source": [
    "print \"Mean: \", np.mean(returns), \"Std Dev: \", np.std(returns)"
   ]
  },
  {
   "cell_type": "code",
   "execution_count": 34,
   "metadata": {},
   "outputs": [
    {
     "name": "stdout",
     "output_type": "stream",
     "text": [
      "promedio:  4.26666666667 desviacion estandar: 2.24845626054\n"
     ]
    }
   ],
   "source": [
    "print \"promedio: \", nump.mean(ret), \"desviacion estandar:\", nump.std(ret)"
   ]
  },
  {
   "cell_type": "markdown",
   "metadata": {},
   "source": [
    "Let's simulate a universe of stocks using NumPy's functions. First we need to create the arrays to hold the assets and returns that we will use to build a portfolio. This is because arrays are created with a fixed size. Their dimensions can't be changed without creating a new array."
   ]
  },
  {
   "cell_type": "code",
   "execution_count": 35,
   "metadata": {},
   "outputs": [],
   "source": [
    "N = 10\n",
    "assets = np.zeros((N, 100))\n",
    "returns = np.zeros((N, 100))"
   ]
  },
  {
   "cell_type": "code",
   "execution_count": 36,
   "metadata": {},
   "outputs": [],
   "source": [
    "nn= 26\n",
    "activo = nump.zeros((nn,100))\n",
    "retorno = nump.zeros((nn,100))"
   ]
  },
  {
   "cell_type": "markdown",
   "metadata": {},
   "source": [
    "This function, `zeroes()`, creates a NumPy array with the given dimensions that is entirely filled in with $0$. We can pass a single value or a tuple of as many dimensions as we like. Passing in the tuple `(N, 100)`, will return a two-dimensional array with $N$ rows and $100$ columns. Our result is a $N \\times 100$ array.\n",
    "\n",
    "Now we will simulate a base asset. We want the universe of stocks to be correlated with each other so we will use this initial value to generate the others."
   ]
  },
  {
   "cell_type": "code",
   "execution_count": 37,
   "metadata": {},
   "outputs": [],
   "source": [
    "R_1 = np.random.normal(1.01, 0.03, 100)\n",
    "returns[0] = R_1\n",
    "assets[0] = np.cumprod(R_1)"
   ]
  },
  {
   "cell_type": "code",
   "execution_count": 38,
   "metadata": {},
   "outputs": [],
   "source": [
    "R = nump.random.normal(2.2,0.5,100)\n",
    "retorno[0]=R\n",
    "activo[0]= np.cumprod(R)"
   ]
  },
  {
   "cell_type": "markdown",
   "metadata": {},
   "source": [
    "The `random` module in NumPy is exceedingly useful. It contains methods for sampling from many different probability distributions, some of which are covered in the [random variables lecture](https://www.quantopian.com/lectures/random-variables) in the Quantopian lecture series. In this case we draw $N = 100$ random samples from a normal distribution with mean $1.01$ and standard deviation $0.03$. We treat these as the daily percentage returns of our asset and take the cumulative product of these samples to get the current price.\n",
    "\n",
    "The way we have generated our universe, the the individual $R_i$ vectors are each 1-dimensional arrays and the `returns` and `assets` variables contain 2-dimensional arrays. Above, we set the initial row of both `returns` and `assets` to be the first $R_i$ vector and the cumulative asset price based on those returns, respectively.\n",
    "\n",
    "We will now use this base asset to create a few other random assets that are correlated with it."
   ]
  },
  {
   "cell_type": "code",
   "execution_count": 39,
   "metadata": {},
   "outputs": [],
   "source": [
    "# Generate assets that are correlated with R_1\n",
    "for i in range(1, N):\n",
    "    R_i = R_1 + np.random.normal(0.001, 0.02, 100)\n",
    "    returns[i] = R_i # Set each row of returns equal to the new R_i array\n",
    "    assets[i] = np.cumprod(R_i)\n",
    "    \n",
    "mean_returns = [(np.mean(R) - 1)*100 for R in returns]\n",
    "return_volatilities = [np.std(R) for R in returns]"
   ]
  },
  {
   "cell_type": "code",
   "execution_count": 40,
   "metadata": {},
   "outputs": [],
   "source": [
    "for i in range(1,nn):\n",
    "    Ri= R+nump.random.normal(0.009,0.3,100)\n",
    "    retorno[i]=R_i\n",
    "    activo[i]=nump.cumprod(R_i)\n",
    "promedio_r=[(nump.mean(R)-1)*100 for R in retorno]\n",
    "ret_volatiles= [nump.std(R) for R in retorno]\n"
   ]
  },
  {
   "cell_type": "markdown",
   "metadata": {},
   "source": [
    "Here we generate the remaining $N - 1$ securities that we want in our universe by adding random noise to $R_1$. This ensures that our $N - 1$ other assets will be correlated with the base asset because they have some underlying information that is shared.\n",
    "\n",
    "Let's plot what the mean return of each asset looks like:"
   ]
  },
  {
   "cell_type": "code",
   "execution_count": 41,
   "metadata": {
    "scrolled": false
   },
   "outputs": [
    {
     "data": {
      "image/png": "[encoded data removed]",
      "text/plain": [
       "<matplotlib.figure.Figure at 0x7f6d00c81240>"
      ]
     },
     "metadata": {},
     "output_type": "display_data"
    }
   ],
   "source": [
    "plt.bar(np.arange(len(mean_returns)), mean_returns)\n",
    "plt.xlabel('Stock')\n",
    "plt.ylabel('Returns')\n",
    "plt.title('Returns for {0} Random Assets'.format(N));"
   ]
  },
  {
   "cell_type": "code",
   "execution_count": 42,
   "metadata": {},
   "outputs": [
    {
     "data": {
      "image/png": "[encoded data removed]",
      "text/plain": [
       "<matplotlib.figure.Figure at 0x7f6cff73c5f8>"
      ]
     },
     "metadata": {},
     "output_type": "display_data"
    }
   ],
   "source": [
    "plot.bar(nump.arange(len(promedio_r)), promedio_r)\n",
    "plot.xlabel('Accion')\n",
    "plot.ylabel('Retornos')\n",
    "plot.title('Returnos para {0} activosaleatorios'.format(22));"
   ]
  },
  {
   "cell_type": "markdown",
   "metadata": {},
   "source": [
    "### Calculating Expected Return\n",
    "\n",
    "So we have a universe of stocks. Great! Now let's put them together in a portfolio and calculate its expected return and risk.\n",
    "\n",
    "We will start off by generating $N$ random weights for each asset in our portfolio."
   ]
  },
  {
   "cell_type": "code",
   "execution_count": 43,
   "metadata": {},
   "outputs": [],
   "source": [
    "weights = np.random.uniform(0, 1, N)\n",
    "weights = weights/np.sum(weights)"
   ]
  },
  {
   "cell_type": "code",
   "execution_count": 44,
   "metadata": {},
   "outputs": [],
   "source": [
    "pesos = nump.random.uniform(0,1,nn)\n",
    "pesos = pesos/nump.sum(pesos)"
   ]
  },
  {
   "cell_type": "markdown",
   "metadata": {},
   "source": [
    "We have to rescale the weights so that they all add up to $1$. We do this by scaling the weights vector by the sum total of all the weights. This step ensures that we will be using $100\\%$ of the portfolio's cash.\n",
    "\n",
    "To calculate the mean return of the portfolio, we have to scale each asset's return by its designated weight. We can pull each element of each array and multiply them individually, but it's quicker to use NumPy's linear algebra methods. The function that we want is `dot()`. This will calculate the dot product between two arrays for us. So if $v = \\left[ 1, 2, 3 \\right]$ and $w = \\left[4, 5, 6 \\right]$, then:\n",
    "\n",
    "$$ v \\cdot w = 1 \\times 4 + 2 \\times 5 + 3 \\times 6 $$\n",
    "\n",
    "For a one-dimensional vector, the dot product will multiply each element pointwise and add all the products together! In our case, we have a vector of weights, $\\omega = \\left[ \\omega_1, \\omega_2, \\dots \\omega_N\\right]$ and a vector of returns, $\\mu = \\left[ \\mu_1, \\mu_2, \\dots, \\mu_N\\right]$. If we take the dot product of these two we will get:\n",
    "\n",
    "$$ \\omega \\cdot \\mu = \\omega_1\\mu_1 + \\omega_2\\mu_2 + \\dots + \\omega_N\\mu_N = \\mu_P $$\n",
    "\n",
    "This yields the sum of all the asset returns scaled by their respective weights. This the the portfolio's overall expected return!"
   ]
  },
  {
   "cell_type": "code",
   "execution_count": 45,
   "metadata": {},
   "outputs": [
    {
     "name": "stdout",
     "output_type": "stream",
     "text": [
      "Expected return of the portfolio:  1.27069718758\n"
     ]
    }
   ],
   "source": [
    "p_returns = np.dot(weights, mean_returns)\n",
    "print \"Expected return of the portfolio: \", p_returns"
   ]
  },
  {
   "cell_type": "code",
   "execution_count": 46,
   "metadata": {},
   "outputs": [
    {
     "name": "stdout",
     "output_type": "stream",
     "text": [
      "retornos esperados:  1.80258017082\n"
     ]
    }
   ],
   "source": [
    "p_retornos = np.dot(pesos,promedio_r)\n",
    "print \"retornos esperados: \", p_retornos"
   ]
  },
  {
   "cell_type": "markdown",
   "metadata": {},
   "source": [
    "Calculating the mean return is fairly intuitive and does not require too much explanation of linear algebra. However, calculating the variance of our portfolio requires a bit more background."
   ]
  },
  {
   "cell_type": "markdown",
   "metadata": {},
   "source": [
    "#### Beware of NaN values\n",
    "\n",
    "Most of the time, all of these calculations will work without an issue. However, when working with real data we run the risk of having `nan` values in our arrays. This is NumPy's way of saying that the data there is missing or doesn't exist. These `nan` values can lead to errors in mathematical calculations so it is important to be aware of whether your array contains `nan` values and to know how to drop them."
   ]
  },
  {
   "cell_type": "code",
   "execution_count": 47,
   "metadata": {},
   "outputs": [
    {
     "name": "stdout",
     "output_type": "stream",
     "text": [
      "[  1.   2.  nan   4.   5.]\n"
     ]
    }
   ],
   "source": [
    "v = np.array([1, 2, np.nan, 4, 5])\n",
    "print v"
   ]
  },
  {
   "cell_type": "code",
   "execution_count": 48,
   "metadata": {},
   "outputs": [
    {
     "name": "stdout",
     "output_type": "stream",
     "text": [
      "[  nan    3.   nan  532.   nan]\n"
     ]
    }
   ],
   "source": [
    "nana= np.array([np.nan,3,np.nan,532,np.nan])\n",
    "print nana"
   ]
  },
  {
   "cell_type": "markdown",
   "metadata": {},
   "source": [
    "Let's see what happens when we try to take the mean of this array."
   ]
  },
  {
   "cell_type": "code",
   "execution_count": 49,
   "metadata": {},
   "outputs": [
    {
     "name": "stdout",
     "output_type": "stream",
     "text": [
      "nan\n"
     ]
    }
   ],
   "source": [
    "print np.mean(v)"
   ]
  },
  {
   "cell_type": "code",
   "execution_count": 50,
   "metadata": {},
   "outputs": [
    {
     "name": "stdout",
     "output_type": "stream",
     "text": [
      "nan\n"
     ]
    }
   ],
   "source": [
    "print np.mean(nana)"
   ]
  },
  {
   "cell_type": "markdown",
   "metadata": {},
   "source": [
    "Clearly, `nan` values can have a large impact on our calculations. Fortunately, we can check for `nan` values with the `isnan()` function."
   ]
  },
  {
   "cell_type": "code",
   "execution_count": 51,
   "metadata": {},
   "outputs": [
    {
     "data": {
      "text/plain": [
       "array([False, False,  True, False, False], dtype=bool)"
      ]
     },
     "execution_count": 51,
     "metadata": {},
     "output_type": "execute_result"
    }
   ],
   "source": [
    "np.isnan(v)"
   ]
  },
  {
   "cell_type": "code",
   "execution_count": 52,
   "metadata": {},
   "outputs": [
    {
     "data": {
      "text/plain": [
       "array([ True, False,  True, False,  True], dtype=bool)"
      ]
     },
     "execution_count": 52,
     "metadata": {},
     "output_type": "execute_result"
    }
   ],
   "source": [
    "np.isnan(nana)"
   ]
  },
  {
   "cell_type": "markdown",
   "metadata": {},
   "source": [
    "Calling `isnan()` on an array will call the function on each value of the array, returning a value of `True` if the element is `nan` and `False` if the element is valid. Now, knowing whether your array contains `nan` values is all well and good, but how do we remove `nan`s? Handily enough, NumPy arrays can be indexed by boolean values (`True` or `False`). If we use a boolean array to index an array, we will remove all values of the array that register as `False` under the condition. We use the `isnan()` function in create a boolean array, assigning a `True` value to everything that is *not* `nan` and a `False` to the `nan`s and we use that to index the same array."
   ]
  },
  {
   "cell_type": "code",
   "execution_count": 53,
   "metadata": {},
   "outputs": [
    {
     "name": "stdout",
     "output_type": "stream",
     "text": [
      "[ 1.  2.  4.  5.]\n"
     ]
    }
   ],
   "source": [
    "ix = ~np.isnan(v) # the ~ indicates a logical not, inverting the bools\n",
    "print v[ix] # We can also just write v = v[~np.isnan(v)]"
   ]
  },
  {
   "cell_type": "code",
   "execution_count": 54,
   "metadata": {},
   "outputs": [
    {
     "name": "stdout",
     "output_type": "stream",
     "text": [
      "[   3.  532.]\n"
     ]
    }
   ],
   "source": [
    "inan=~np.isnan(nana)\n",
    "print nana[inan]"
   ]
  },
  {
   "cell_type": "code",
   "execution_count": 55,
   "metadata": {},
   "outputs": [
    {
     "name": "stdout",
     "output_type": "stream",
     "text": [
      "3.0\n"
     ]
    }
   ],
   "source": [
    "print np.mean(v[ix])"
   ]
  },
  {
   "cell_type": "code",
   "execution_count": 56,
   "metadata": {},
   "outputs": [
    {
     "name": "stdout",
     "output_type": "stream",
     "text": [
      "267.5\n"
     ]
    }
   ],
   "source": [
    "print nump.mean(nana[inan])"
   ]
  },
  {
   "cell_type": "markdown",
   "metadata": {},
   "source": [
    "There are a few shortcuts to this process in the form of NumPy functions specifically built to handle them, such as `nanmean()`."
   ]
  },
  {
   "cell_type": "code",
   "execution_count": 57,
   "metadata": {},
   "outputs": [
    {
     "name": "stdout",
     "output_type": "stream",
     "text": [
      "3.0\n"
     ]
    }
   ],
   "source": [
    "print np.nanmean(v)"
   ]
  },
  {
   "cell_type": "markdown",
   "metadata": {},
   "source": [
    "The `nanmean()` function simply calculates the mean of the array as if there were no `nan` values at all! There are a few more of these functions, so feel free to read more about them in the [documentation](https://docs.scipy.org/doc/numpy/user/index.html). These indeterminate values are more an issue with data than linear algebra itself so it is helpful that there are ways to handle them."
   ]
  },
  {
   "cell_type": "markdown",
   "metadata": {},
   "source": [
    "### Conclusion\n",
    "\n",
    "Linear algebra is pervasive in finance and in general. For example, the calculation of *optimal* weights according to modern portfolio theory is done using linear algebra techniques. The arrays and functions in NumPy allow us to handle these calculations in an intuitive way. For a quick intro to linear algebra and how to use NumPy to do more significant matrix calculations, proceed to the next section."
   ]
  },
  {
   "cell_type": "markdown",
   "metadata": {},
   "source": [
    "## A brief foray into linear algebra\n",
    "\n",
    "Let's start with a basic overview of some linear algebra. Linear algebra comes down to the multiplication and composition of scalar and matrix values. A scalar value is just a real number that we multiply against an array. When we scale a matrix or array using a scalar, we multiply each individual element of that matrix or array by the scalar.\n",
    "\n",
    "A matrix is a collection of values, typically represented by an $m \\times n$ grid, where $m$ is the number of rows and $n$ is the number of columns. The edge lengths $m$ and $n$ do not necessarily have to be different. If we have $m = n$, we call this a square matrix. A particularly interesting case of a matrix is when $m = 1$ or $n = 1$. In this case we have a special case of a matrix that we call a vector. While there is a matrix object in NumPy we will be doing everything using NumPy arrays because they can have dimensions greater than $2$. For the purpose of this section, we will be using matrix and array interchangeably.\n",
    "\n",
    "We can express the matrix equation as:\n",
    "\n",
    "$$ y = A\\cdot x $$\n",
    "\n",
    "Where $A$ is an $m \\times n$ matrix, $y$ is a $m \\times 1$ vector, and $x$ is a $n \\times 1$ vector. On the right-hand side of the equation we are multiplying a matrix by a vector. This requires a little bit more clarification, lest we think that we can go about multiplying any matrices by any other matrices.\n",
    "\n",
    "#### Matrix multiplication\n",
    "\n",
    "With matrix multiplication, the order in which the matrices are multiplied matters. Multiplying a matrix on the left side by another matrix may be just fine, but multiplying on the right may be undefined."
   ]
  },
  {
   "cell_type": "code",
   "execution_count": 58,
   "metadata": {},
   "outputs": [],
   "source": [
    "A = np.array([\n",
    "        [1, 2, 3, 12],\n",
    "        [4, 5, 6, 15],\n",
    "        [7, 8, 9, 10]        \n",
    "    ])\n",
    "B = np.array([\n",
    "        [4, 4, 2],\n",
    "        [2, 3, 1],\n",
    "        [6, 5, 8],\n",
    "        [9, 9, 9]\n",
    "    ])"
   ]
  },
  {
   "cell_type": "code",
   "execution_count": 59,
   "metadata": {},
   "outputs": [],
   "source": [
    "AB = np.array([\n",
    "        [11, 29, 65, 12, 26],\n",
    "        [24, 55, 1, 15, 20],\n",
    "        [64, 87, 90, 3, 83],\n",
    "        [7, 1, 99, 11, 30]\n",
    "    ])\n",
    "BA = np.array([\n",
    "        [7, 12, 32, 12],\n",
    "        [82, 8 , 29,66 ],\n",
    "        [7, 1, 3, 24 ],\n",
    "        [36, 35, 722,9 ],\n",
    "        [64, 78, 12,95 ]\n",
    "    ])"
   ]
  },
  {
   "cell_type": "markdown",
   "metadata": {},
   "source": [
    "Notice that the above-defined matrices, $A$ and $B$, have different dimensions. $A$ is $3 \\times 5$ and $B$ is $4 \\times 3$. The general rule of what can and cannot be multiplied in which order is based on the dimensions of the matrices. Specifically, the number of columns in the matrix on the left must be equal to the number of rows in the matrix on the right. In super informal terms, let's say that we have an $m \\times n$ matrix and a $p \\times q$ matrix. If we multiply the first by the second on the right, we get the following:\n",
    "\n",
    "$$ (m \\times n) \\cdot (p \\times q) = (m \\times q) $$\n",
    "\n",
    "So the resultant product has the same number of rows as the left matrix and the same number of columns as the right matrix. This limitation of matrix multiplication with regards to dimensions is important to keep track of when writing code. To demonstrate this, we use the `dot()` function to multiply our matrices below:"
   ]
  },
  {
   "cell_type": "code",
   "execution_count": 60,
   "metadata": {},
   "outputs": [
    {
     "name": "stdout",
     "output_type": "stream",
     "text": [
      "[[134 133 136]\n",
      " [197 196 196]\n",
      " [188 187 184]]\n"
     ]
    }
   ],
   "source": [
    "print np.dot(A, B)"
   ]
  },
  {
   "cell_type": "code",
   "execution_count": 61,
   "metadata": {},
   "outputs": [
    {
     "name": "stdout",
     "output_type": "stream",
     "text": [
      "[[ 5006  2877 10364  6184]\n",
      " [ 6505  2814 13436  5977]\n",
      " [13632  8133  8003 16582]\n",
      " [ 3140  2916  8852  5475]]\n"
     ]
    }
   ],
   "source": [
    "print np.dot(AB, BA)"
   ]
  },
  {
   "cell_type": "markdown",
   "metadata": {},
   "source": [
    "These results make sense in accordance with our rule. Multiplying a $3 \\times 5$ matrix on the right by a $4 \\times 3$ matrix results in an error while multiplying a $4 \\times 3$ matrix on the right by a $3 \\times 5$ matrix results in a $4 \\times 5$ matrix."
   ]
  },
  {
   "cell_type": "code",
   "execution_count": 62,
   "metadata": {},
   "outputs": [
    {
     "name": "stdout",
     "output_type": "stream",
     "text": [
      "[[ 34  44  54 128]\n",
      " [ 21  27  33  79]\n",
      " [ 82 101 120 227]\n",
      " [108 135 162 333]]\n"
     ]
    }
   ],
   "source": [
    "print np.dot(B, A)"
   ]
  },
  {
   "cell_type": "code",
   "execution_count": 63,
   "metadata": {},
   "outputs": [
    {
     "name": "stdout",
     "output_type": "stream",
     "text": [
      "[[ 2497  3659  4535   492  3438]\n",
      " [ 3412  5407 14482  1917  6679]\n",
      " [  461   543  3102   372  1171]\n",
      " [47507 65792 68246  3222 61832]\n",
      " [ 4009  7285 14723  3019  7070]]\n"
     ]
    }
   ],
   "source": [
    "print np.dot(BA, AB)"
   ]
  },
  {
   "cell_type": "markdown",
   "metadata": {},
   "source": [
    "### Portfolio Variance\n",
    "\n",
    "Let's return to our portfolio example from before. We calculated the expected return of the portfolio, but how do we calculate the variance? We start by trying to evaluate the portfolio as a sum of each individual asset, scaled by it's weight.\n",
    "\n",
    "$$ VAR[P] = VAR[\\omega_1 S_1 + \\omega_2 S_2 + \\cdots + \\omega_N S_N] $$\n",
    "\n",
    "Where $S_0, \\cdots, S_N$ are the assets contained within our universe. If all of our assets were independent of each other, we could simply evaluate this as\n",
    "\n",
    "$$ VAR[P] = VAR[\\omega_1 S_1] + VAR[\\omega_2 S_2] + \\cdots + VAR[\\omega_N S_N] = \\omega_1^2\\sigma_1^2 + \\omega_2^2\\sigma_2^2 + \\cdots + \\omega_N^2\\sigma_N^2 $$\n",
    "\n",
    "However, all of our assets depend on each other by their construction. They are all in some way related to our base asset and therefore each other. We thus have to calculate the variance of the portfolio by including the individual pairwise covariances of each asset. Our formula for the variance of the portfolio:\n",
    "\n",
    "$$ VAR[P] = \\sigma_P^2 = \\sum_i \\omega_i^2\\sigma_i^2 + \\sum_i\\sum_{i\\neq j} \\omega_i\\omega_j\\sigma_i\\sigma_j\\rho_{i, j}, \\ i, j \\in \\lbrace 1, 2, \\cdots, N \\rbrace $$\n",
    "\n",
    "Where $\\rho_{i,j}$ is the correlation between $S_i$ and $S_j$, $\\rho_{i, j} = \\frac{COV[S_i, S_j]}{\\sigma_i\\sigma_j}$. This seems exceedingly complicated, but we can easily handle all of this using NumPy arrays. First, we calculate the covariance matrix that relates all the individual stocks in our universe."
   ]
  },
  {
   "cell_type": "code",
   "execution_count": 64,
   "metadata": {},
   "outputs": [
    {
     "name": "stdout",
     "output_type": "stream",
     "text": [
      "[[ 0.00083889  0.00080128  0.00078242  0.00074665  0.00081075  0.00084237\n",
      "   0.00087921  0.00086298  0.00086129  0.00096818]\n",
      " [ 0.00080128  0.0011617   0.00075963  0.00070701  0.00081395  0.00072688\n",
      "   0.00078089  0.00084637  0.00080714  0.00091439]\n",
      " [ 0.00078242  0.00075963  0.00108677  0.0007318   0.00081228  0.00075868\n",
      "   0.00084533  0.00079017  0.00086714  0.00092873]\n",
      " [ 0.00074665  0.00070701  0.0007318   0.00115629  0.00070689  0.00073399\n",
      "   0.00073552  0.00084551  0.00066375  0.00086774]\n",
      " [ 0.00081075  0.00081395  0.00081228  0.00070689  0.00124308  0.00074457\n",
      "   0.00086107  0.00083492  0.00078612  0.00091541]\n",
      " [ 0.00084237  0.00072688  0.00075868  0.00073399  0.00074457  0.00131918\n",
      "   0.00092202  0.00085772  0.0008617   0.00098398]\n",
      " [ 0.00087921  0.00078089  0.00084533  0.00073552  0.00086107  0.00092202\n",
      "   0.00123888  0.00095466  0.00089887  0.00096921]\n",
      " [ 0.00086298  0.00084637  0.00079017  0.00084551  0.00083492  0.00085772\n",
      "   0.00095466  0.00134675  0.0009009   0.00104267]\n",
      " [ 0.00086129  0.00080714  0.00086714  0.00066375  0.00078612  0.0008617\n",
      "   0.00089887  0.0009009   0.00122503  0.00098122]\n",
      " [ 0.00096818  0.00091439  0.00092873  0.00086774  0.00091541  0.00098398\n",
      "   0.00096921  0.00104267  0.00098122  0.00150449]]\n"
     ]
    }
   ],
   "source": [
    "cov_mat = np.cov(returns)\n",
    "print cov_mat"
   ]
  },
  {
   "cell_type": "code",
   "execution_count": 65,
   "metadata": {},
   "outputs": [
    {
     "name": "stdout",
     "output_type": "stream",
     "text": [
      "[[  2.36223019e-01  -1.64025388e-04  -1.64025388e-04  -1.64025388e-04\n",
      "   -1.64025388e-04  -1.64025388e-04  -1.64025388e-04  -1.64025388e-04\n",
      "   -1.64025388e-04  -1.64025388e-04  -1.64025388e-04  -1.64025388e-04\n",
      "   -1.64025388e-04  -1.64025388e-04  -1.64025388e-04  -1.64025388e-04\n",
      "   -1.64025388e-04  -1.64025388e-04  -1.64025388e-04  -1.64025388e-04\n",
      "   -1.64025388e-04  -1.64025388e-04  -1.64025388e-04  -1.64025388e-04\n",
      "   -1.64025388e-04  -1.64025388e-04]\n",
      " [ -1.64025388e-04   1.50449415e-03   1.50449415e-03   1.50449415e-03\n",
      "    1.50449415e-03   1.50449415e-03   1.50449415e-03   1.50449415e-03\n",
      "    1.50449415e-03   1.50449415e-03   1.50449415e-03   1.50449415e-03\n",
      "    1.50449415e-03   1.50449415e-03   1.50449415e-03   1.50449415e-03\n",
      "    1.50449415e-03   1.50449415e-03   1.50449415e-03   1.50449415e-03\n",
      "    1.50449415e-03   1.50449415e-03   1.50449415e-03   1.50449415e-03\n",
      "    1.50449415e-03   1.50449415e-03]\n",
      " [ -1.64025388e-04   1.50449415e-03   1.50449415e-03   1.50449415e-03\n",
      "    1.50449415e-03   1.50449415e-03   1.50449415e-03   1.50449415e-03\n",
      "    1.50449415e-03   1.50449415e-03   1.50449415e-03   1.50449415e-03\n",
      "    1.50449415e-03   1.50449415e-03   1.50449415e-03   1.50449415e-03\n",
      "    1.50449415e-03   1.50449415e-03   1.50449415e-03   1.50449415e-03\n",
      "    1.50449415e-03   1.50449415e-03   1.50449415e-03   1.50449415e-03\n",
      "    1.50449415e-03   1.50449415e-03]\n",
      " [ -1.64025388e-04   1.50449415e-03   1.50449415e-03   1.50449415e-03\n",
      "    1.50449415e-03   1.50449415e-03   1.50449415e-03   1.50449415e-03\n",
      "    1.50449415e-03   1.50449415e-03   1.50449415e-03   1.50449415e-03\n",
      "    1.50449415e-03   1.50449415e-03   1.50449415e-03   1.50449415e-03\n",
      "    1.50449415e-03   1.50449415e-03   1.50449415e-03   1.50449415e-03\n",
      "    1.50449415e-03   1.50449415e-03   1.50449415e-03   1.50449415e-03\n",
      "    1.50449415e-03   1.50449415e-03]\n",
      " [ -1.64025388e-04   1.50449415e-03   1.50449415e-03   1.50449415e-03\n",
      "    1.50449415e-03   1.50449415e-03   1.50449415e-03   1.50449415e-03\n",
      "    1.50449415e-03   1.50449415e-03   1.50449415e-03   1.50449415e-03\n",
      "    1.50449415e-03   1.50449415e-03   1.50449415e-03   1.50449415e-03\n",
      "    1.50449415e-03   1.50449415e-03   1.50449415e-03   1.50449415e-03\n",
      "    1.50449415e-03   1.50449415e-03   1.50449415e-03   1.50449415e-03\n",
      "    1.50449415e-03   1.50449415e-03]\n",
      " [ -1.64025388e-04   1.50449415e-03   1.50449415e-03   1.50449415e-03\n",
      "    1.50449415e-03   1.50449415e-03   1.50449415e-03   1.50449415e-03\n",
      "    1.50449415e-03   1.50449415e-03   1.50449415e-03   1.50449415e-03\n",
      "    1.50449415e-03   1.50449415e-03   1.50449415e-03   1.50449415e-03\n",
      "    1.50449415e-03   1.50449415e-03   1.50449415e-03   1.50449415e-03\n",
      "    1.50449415e-03   1.50449415e-03   1.50449415e-03   1.50449415e-03\n",
      "    1.50449415e-03   1.50449415e-03]\n",
      " [ -1.64025388e-04   1.50449415e-03   1.50449415e-03   1.50449415e-03\n",
      "    1.50449415e-03   1.50449415e-03   1.50449415e-03   1.50449415e-03\n",
      "    1.50449415e-03   1.50449415e-03   1.50449415e-03   1.50449415e-03\n",
      "    1.50449415e-03   1.50449415e-03   1.50449415e-03   1.50449415e-03\n",
      "    1.50449415e-03   1.50449415e-03   1.50449415e-03   1.50449415e-03\n",
      "    1.50449415e-03   1.50449415e-03   1.50449415e-03   1.50449415e-03\n",
      "    1.50449415e-03   1.50449415e-03]\n",
      " [ -1.64025388e-04   1.50449415e-03   1.50449415e-03   1.50449415e-03\n",
      "    1.50449415e-03   1.50449415e-03   1.50449415e-03   1.50449415e-03\n",
      "    1.50449415e-03   1.50449415e-03   1.50449415e-03   1.50449415e-03\n",
      "    1.50449415e-03   1.50449415e-03   1.50449415e-03   1.50449415e-03\n",
      "    1.50449415e-03   1.50449415e-03   1.50449415e-03   1.50449415e-03\n",
      "    1.50449415e-03   1.50449415e-03   1.50449415e-03   1.50449415e-03\n",
      "    1.50449415e-03   1.50449415e-03]\n",
      " [ -1.64025388e-04   1.50449415e-03   1.50449415e-03   1.50449415e-03\n",
      "    1.50449415e-03   1.50449415e-03   1.50449415e-03   1.50449415e-03\n",
      "    1.50449415e-03   1.50449415e-03   1.50449415e-03   1.50449415e-03\n",
      "    1.50449415e-03   1.50449415e-03   1.50449415e-03   1.50449415e-03\n",
      "    1.50449415e-03   1.50449415e-03   1.50449415e-03   1.50449415e-03\n",
      "    1.50449415e-03   1.50449415e-03   1.50449415e-03   1.50449415e-03\n",
      "    1.50449415e-03   1.50449415e-03]\n",
      " [ -1.64025388e-04   1.50449415e-03   1.50449415e-03   1.50449415e-03\n",
      "    1.50449415e-03   1.50449415e-03   1.50449415e-03   1.50449415e-03\n",
      "    1.50449415e-03   1.50449415e-03   1.50449415e-03   1.50449415e-03\n",
      "    1.50449415e-03   1.50449415e-03   1.50449415e-03   1.50449415e-03\n",
      "    1.50449415e-03   1.50449415e-03   1.50449415e-03   1.50449415e-03\n",
      "    1.50449415e-03   1.50449415e-03   1.50449415e-03   1.50449415e-03\n",
      "    1.50449415e-03   1.50449415e-03]\n",
      " [ -1.64025388e-04   1.50449415e-03   1.50449415e-03   1.50449415e-03\n",
      "    1.50449415e-03   1.50449415e-03   1.50449415e-03   1.50449415e-03\n",
      "    1.50449415e-03   1.50449415e-03   1.50449415e-03   1.50449415e-03\n",
      "    1.50449415e-03   1.50449415e-03   1.50449415e-03   1.50449415e-03\n",
      "    1.50449415e-03   1.50449415e-03   1.50449415e-03   1.50449415e-03\n",
      "    1.50449415e-03   1.50449415e-03   1.50449415e-03   1.50449415e-03\n",
      "    1.50449415e-03   1.50449415e-03]\n",
      " [ -1.64025388e-04   1.50449415e-03   1.50449415e-03   1.50449415e-03\n",
      "    1.50449415e-03   1.50449415e-03   1.50449415e-03   1.50449415e-03\n",
      "    1.50449415e-03   1.50449415e-03   1.50449415e-03   1.50449415e-03\n",
      "    1.50449415e-03   1.50449415e-03   1.50449415e-03   1.50449415e-03\n",
      "    1.50449415e-03   1.50449415e-03   1.50449415e-03   1.50449415e-03\n",
      "    1.50449415e-03   1.50449415e-03   1.50449415e-03   1.50449415e-03\n",
      "    1.50449415e-03   1.50449415e-03]\n",
      " [ -1.64025388e-04   1.50449415e-03   1.50449415e-03   1.50449415e-03\n",
      "    1.50449415e-03   1.50449415e-03   1.50449415e-03   1.50449415e-03\n",
      "    1.50449415e-03   1.50449415e-03   1.50449415e-03   1.50449415e-03\n",
      "    1.50449415e-03   1.50449415e-03   1.50449415e-03   1.50449415e-03\n",
      "    1.50449415e-03   1.50449415e-03   1.50449415e-03   1.50449415e-03\n",
      "    1.50449415e-03   1.50449415e-03   1.50449415e-03   1.50449415e-03\n",
      "    1.50449415e-03   1.50449415e-03]\n",
      " [ -1.64025388e-04   1.50449415e-03   1.50449415e-03   1.50449415e-03\n",
      "    1.50449415e-03   1.50449415e-03   1.50449415e-03   1.50449415e-03\n",
      "    1.50449415e-03   1.50449415e-03   1.50449415e-03   1.50449415e-03\n",
      "    1.50449415e-03   1.50449415e-03   1.50449415e-03   1.50449415e-03\n",
      "    1.50449415e-03   1.50449415e-03   1.50449415e-03   1.50449415e-03\n",
      "    1.50449415e-03   1.50449415e-03   1.50449415e-03   1.50449415e-03\n",
      "    1.50449415e-03   1.50449415e-03]\n",
      " [ -1.64025388e-04   1.50449415e-03   1.50449415e-03   1.50449415e-03\n",
      "    1.50449415e-03   1.50449415e-03   1.50449415e-03   1.50449415e-03\n",
      "    1.50449415e-03   1.50449415e-03   1.50449415e-03   1.50449415e-03\n",
      "    1.50449415e-03   1.50449415e-03   1.50449415e-03   1.50449415e-03\n",
      "    1.50449415e-03   1.50449415e-03   1.50449415e-03   1.50449415e-03\n",
      "    1.50449415e-03   1.50449415e-03   1.50449415e-03   1.50449415e-03\n",
      "    1.50449415e-03   1.50449415e-03]\n",
      " [ -1.64025388e-04   1.50449415e-03   1.50449415e-03   1.50449415e-03\n",
      "    1.50449415e-03   1.50449415e-03   1.50449415e-03   1.50449415e-03\n",
      "    1.50449415e-03   1.50449415e-03   1.50449415e-03   1.50449415e-03\n",
      "    1.50449415e-03   1.50449415e-03   1.50449415e-03   1.50449415e-03\n",
      "    1.50449415e-03   1.50449415e-03   1.50449415e-03   1.50449415e-03\n",
      "    1.50449415e-03   1.50449415e-03   1.50449415e-03   1.50449415e-03\n",
      "    1.50449415e-03   1.50449415e-03]\n",
      " [ -1.64025388e-04   1.50449415e-03   1.50449415e-03   1.50449415e-03\n",
      "    1.50449415e-03   1.50449415e-03   1.50449415e-03   1.50449415e-03\n",
      "    1.50449415e-03   1.50449415e-03   1.50449415e-03   1.50449415e-03\n",
      "    1.50449415e-03   1.50449415e-03   1.50449415e-03   1.50449415e-03\n",
      "    1.50449415e-03   1.50449415e-03   1.50449415e-03   1.50449415e-03\n",
      "    1.50449415e-03   1.50449415e-03   1.50449415e-03   1.50449415e-03\n",
      "    1.50449415e-03   1.50449415e-03]\n",
      " [ -1.64025388e-04   1.50449415e-03   1.50449415e-03   1.50449415e-03\n",
      "    1.50449415e-03   1.50449415e-03   1.50449415e-03   1.50449415e-03\n",
      "    1.50449415e-03   1.50449415e-03   1.50449415e-03   1.50449415e-03\n",
      "    1.50449415e-03   1.50449415e-03   1.50449415e-03   1.50449415e-03\n",
      "    1.50449415e-03   1.50449415e-03   1.50449415e-03   1.50449415e-03\n",
      "    1.50449415e-03   1.50449415e-03   1.50449415e-03   1.50449415e-03\n",
      "    1.50449415e-03   1.50449415e-03]\n",
      " [ -1.64025388e-04   1.50449415e-03   1.50449415e-03   1.50449415e-03\n",
      "    1.50449415e-03   1.50449415e-03   1.50449415e-03   1.50449415e-03\n",
      "    1.50449415e-03   1.50449415e-03   1.50449415e-03   1.50449415e-03\n",
      "    1.50449415e-03   1.50449415e-03   1.50449415e-03   1.50449415e-03\n",
      "    1.50449415e-03   1.50449415e-03   1.50449415e-03   1.50449415e-03\n",
      "    1.50449415e-03   1.50449415e-03   1.50449415e-03   1.50449415e-03\n",
      "    1.50449415e-03   1.50449415e-03]\n",
      " [ -1.64025388e-04   1.50449415e-03   1.50449415e-03   1.50449415e-03\n",
      "    1.50449415e-03   1.50449415e-03   1.50449415e-03   1.50449415e-03\n",
      "    1.50449415e-03   1.50449415e-03   1.50449415e-03   1.50449415e-03\n",
      "    1.50449415e-03   1.50449415e-03   1.50449415e-03   1.50449415e-03\n",
      "    1.50449415e-03   1.50449415e-03   1.50449415e-03   1.50449415e-03\n",
      "    1.50449415e-03   1.50449415e-03   1.50449415e-03   1.50449415e-03\n",
      "    1.50449415e-03   1.50449415e-03]\n",
      " [ -1.64025388e-04   1.50449415e-03   1.50449415e-03   1.50449415e-03\n",
      "    1.50449415e-03   1.50449415e-03   1.50449415e-03   1.50449415e-03\n",
      "    1.50449415e-03   1.50449415e-03   1.50449415e-03   1.50449415e-03\n",
      "    1.50449415e-03   1.50449415e-03   1.50449415e-03   1.50449415e-03\n",
      "    1.50449415e-03   1.50449415e-03   1.50449415e-03   1.50449415e-03\n",
      "    1.50449415e-03   1.50449415e-03   1.50449415e-03   1.50449415e-03\n",
      "    1.50449415e-03   1.50449415e-03]\n",
      " [ -1.64025388e-04   1.50449415e-03   1.50449415e-03   1.50449415e-03\n",
      "    1.50449415e-03   1.50449415e-03   1.50449415e-03   1.50449415e-03\n",
      "    1.50449415e-03   1.50449415e-03   1.50449415e-03   1.50449415e-03\n",
      "    1.50449415e-03   1.50449415e-03   1.50449415e-03   1.50449415e-03\n",
      "    1.50449415e-03   1.50449415e-03   1.50449415e-03   1.50449415e-03\n",
      "    1.50449415e-03   1.50449415e-03   1.50449415e-03   1.50449415e-03\n",
      "    1.50449415e-03   1.50449415e-03]\n",
      " [ -1.64025388e-04   1.50449415e-03   1.50449415e-03   1.50449415e-03\n",
      "    1.50449415e-03   1.50449415e-03   1.50449415e-03   1.50449415e-03\n",
      "    1.50449415e-03   1.50449415e-03   1.50449415e-03   1.50449415e-03\n",
      "    1.50449415e-03   1.50449415e-03   1.50449415e-03   1.50449415e-03\n",
      "    1.50449415e-03   1.50449415e-03   1.50449415e-03   1.50449415e-03\n",
      "    1.50449415e-03   1.50449415e-03   1.50449415e-03   1.50449415e-03\n",
      "    1.50449415e-03   1.50449415e-03]\n",
      " [ -1.64025388e-04   1.50449415e-03   1.50449415e-03   1.50449415e-03\n",
      "    1.50449415e-03   1.50449415e-03   1.50449415e-03   1.50449415e-03\n",
      "    1.50449415e-03   1.50449415e-03   1.50449415e-03   1.50449415e-03\n",
      "    1.50449415e-03   1.50449415e-03   1.50449415e-03   1.50449415e-03\n",
      "    1.50449415e-03   1.50449415e-03   1.50449415e-03   1.50449415e-03\n",
      "    1.50449415e-03   1.50449415e-03   1.50449415e-03   1.50449415e-03\n",
      "    1.50449415e-03   1.50449415e-03]\n",
      " [ -1.64025388e-04   1.50449415e-03   1.50449415e-03   1.50449415e-03\n",
      "    1.50449415e-03   1.50449415e-03   1.50449415e-03   1.50449415e-03\n",
      "    1.50449415e-03   1.50449415e-03   1.50449415e-03   1.50449415e-03\n",
      "    1.50449415e-03   1.50449415e-03   1.50449415e-03   1.50449415e-03\n",
      "    1.50449415e-03   1.50449415e-03   1.50449415e-03   1.50449415e-03\n",
      "    1.50449415e-03   1.50449415e-03   1.50449415e-03   1.50449415e-03\n",
      "    1.50449415e-03   1.50449415e-03]\n",
      " [ -1.64025388e-04   1.50449415e-03   1.50449415e-03   1.50449415e-03\n",
      "    1.50449415e-03   1.50449415e-03   1.50449415e-03   1.50449415e-03\n",
      "    1.50449415e-03   1.50449415e-03   1.50449415e-03   1.50449415e-03\n",
      "    1.50449415e-03   1.50449415e-03   1.50449415e-03   1.50449415e-03\n",
      "    1.50449415e-03   1.50449415e-03   1.50449415e-03   1.50449415e-03\n",
      "    1.50449415e-03   1.50449415e-03   1.50449415e-03   1.50449415e-03\n",
      "    1.50449415e-03   1.50449415e-03]]\n"
     ]
    }
   ],
   "source": [
    "covid=np.cov(retorno)\n",
    "print covid"
   ]
  },
  {
   "cell_type": "markdown",
   "metadata": {},
   "source": [
    "This array is not formatted particularly nicely, but a covariance matrix is a very important concept. The covariance matrix is of the form:\n",
    "\n",
    "$$ \\left[\\begin{matrix}\n",
    "VAR[S_1] & COV[S_1, S_2] & \\cdots & COV[S_1, S_N] \\\\\n",
    "COV[S_2, S_1] & VAR[S_2] & \\cdots & COV[S_2, S_N] \\\\\n",
    "\\vdots & \\vdots & \\ddots & \\vdots \\\\\n",
    "COV[S_N, S_1] & COV[S_N, S_2] & \\cdots & VAR[S_N]\n",
    "\\end{matrix}\\right] $$\n",
    "\n",
    "So each diagonal entry is the variance of that asset at that index and each off-diagonal holds the covariance of two assets indexed by the column and row number. What is important is that once we have the covariance matrix we are able to do some very quick linear algebra to calculate the variance of the overall portfolio. We can represent the variance of the portfolio in array form as:\n",
    "\n",
    "$$ \\sigma_p^2 = \\omega \\ C \\ \\omega^\\intercal$$\n",
    "\n",
    "Where $C$ is the covariance matrix of all the assets and $\\omega$ is the array containing the weights of each individual asset. The superscript $\\intercal$ on the second $\\omega$ listed above denotes the **transpose** of $\\omega$. For a reference on the evaluation of the variance of a portfolio as a matrix equation, please see the Wikipedia article on [modern portfolio theory](https://en.wikipedia.org/wiki/Modern_portfolio_theory).\n",
    "\n",
    "The transpose of an array is what you get when you switch the rows and columns of an array. This has the effect of reflecting an array across what you might imagine as a diagonal. For example, take our array $A$ from before:"
   ]
  },
  {
   "cell_type": "code",
   "execution_count": 66,
   "metadata": {},
   "outputs": [
    {
     "name": "stdout",
     "output_type": "stream",
     "text": [
      "[[ 1  2  3 12]\n",
      " [ 4  5  6 15]\n",
      " [ 7  8  9 10]]\n"
     ]
    }
   ],
   "source": [
    "print A"
   ]
  },
  {
   "cell_type": "code",
   "execution_count": 67,
   "metadata": {},
   "outputs": [
    {
     "name": "stdout",
     "output_type": "stream",
     "text": [
      "[[4 4 2]\n",
      " [2 3 1]\n",
      " [6 5 8]\n",
      " [9 9 9]]\n"
     ]
    }
   ],
   "source": [
    "print B"
   ]
  },
  {
   "cell_type": "markdown",
   "metadata": {},
   "source": [
    "The transpose looks like a mirror image of the same array."
   ]
  },
  {
   "cell_type": "code",
   "execution_count": 68,
   "metadata": {},
   "outputs": [
    {
     "name": "stdout",
     "output_type": "stream",
     "text": [
      "[[ 1  4  7]\n",
      " [ 2  5  8]\n",
      " [ 3  6  9]\n",
      " [12 15 10]]\n"
     ]
    }
   ],
   "source": [
    "print np.transpose(A)"
   ]
  },
  {
   "cell_type": "code",
   "execution_count": 69,
   "metadata": {},
   "outputs": [
    {
     "name": "stdout",
     "output_type": "stream",
     "text": [
      "[[4 2 6 9]\n",
      " [4 3 5 9]\n",
      " [2 1 8 9]]\n"
     ]
    }
   ],
   "source": [
    "print np.transpose(B)"
   ]
  },
  {
   "cell_type": "markdown",
   "metadata": {},
   "source": [
    "But $\\omega$ here is a 1-dimensional array, a vector! It makes perfect to take the transpose of $A$, a $3 \\times 5$ array, as the output will be a $5 \\times 3$ array, but a 1-dimensional array is not quite as intuitive. A typical 1-dimensional array can be thought of as a $1 \\times n$ horizontal vector. Thus, taking the tranpose of this array essentially means changing it into a $n \\times 1$ vertical vector. This makes sense because 1-dimensional arrays are still arrays and any multiplication done between 1-dimensional and higher dimensional arrays must keep in line with our dimensionality issue of matrix multiplication.\n",
    "\n",
    "To make a long story short, we think of $\\omega$ as $1 \\times N$ since we have $N$ securities. This makes it so that $\\omega^\\intercal$ is $N \\times 1$. Again, our covariance matrix is $N \\times N$. So the overall multiplication works out like so, in informal terms:\n",
    "\n",
    "$$ \\text{Dimensions}(\\sigma_p^2) = \\text{Dimensions}(\\omega C \\omega^\\intercal) = (1 \\times N)\\cdot (N \\times N)\\cdot (N \\times 1) = (1 \\times 1)$$\n",
    "\n",
    "Multiplying the covariance matrix on the left by the plain horizontal vector and on the right by that vector's transpose results in the calculation of a single scalar ($1 \\times 1$) value, our portfolio's variance.\n",
    "\n",
    "So knowing this, let's proceed and calculate the portfolio variance! We can easily calculate the product of these arrays by using `dot()` for matrix multiplication, though this time we have to do it twice."
   ]
  },
  {
   "cell_type": "code",
   "execution_count": 70,
   "metadata": {
    "scrolled": false
   },
   "outputs": [
    {
     "name": "stdout",
     "output_type": "stream",
     "text": [
      "Portfolio volatility:  0.029655021539\n"
     ]
    }
   ],
   "source": [
    "# Calculating the portfolio volatility\n",
    "var_p = np.dot(np.dot(weights, cov_mat), weights.T)\n",
    "vol_p = np.sqrt(var_p)\n",
    "print \"Portfolio volatility: \", vol_p"
   ]
  },
  {
   "cell_type": "code",
   "execution_count": 71,
   "metadata": {},
   "outputs": [
    {
     "name": "stdout",
     "output_type": "stream",
     "text": [
      "volatilidad del portafolio :  0.0386629250447\n"
     ]
    }
   ],
   "source": [
    "variable = np.dot(np.dot(pesos, covid), pesos.T)\n",
    "volatil = np.sqrt(variable)\n",
    "print \"volatilidad del portafolio : \", volatil"
   ]
  },
  {
   "cell_type": "markdown",
   "metadata": {},
   "source": [
    "To confirm this calculation, let's simply evaluate the volatility of the portfolio using only NumPy functions."
   ]
  },
  {
   "cell_type": "code",
   "execution_count": 72,
   "metadata": {},
   "outputs": [
    {
     "name": "stdout",
     "output_type": "stream",
     "text": [
      "Portfolio volatility:  0.029655021539\n"
     ]
    }
   ],
   "source": [
    "# Confirming calculation\n",
    "vol_p_alt = np.sqrt(np.var(np.dot(weights, returns), ddof=1))\n",
    "print \"Portfolio volatility: \", vol_p_alt"
   ]
  },
  {
   "cell_type": "code",
   "execution_count": 73,
   "metadata": {},
   "outputs": [
    {
     "name": "stdout",
     "output_type": "stream",
     "text": [
      "Portfolio volatility:  0.0386629250447\n"
     ]
    }
   ],
   "source": [
    "volalt = nump.sqrt(nump.var(nump.dot(pesos, retorno), ddof=1))\n",
    "print \"Portfolio volatility: \", volalt"
   ]
  },
  {
   "cell_type": "markdown",
   "metadata": {},
   "source": [
    "The `ddof` parameter is a simple integer input that tells the function the number of degrees of freedom to take into account. This is a more statistical concept, but what this tells us that our matrix calculation is correct!\n",
    "\n",
    "A lot of this might not make sense at first glance. It helps to go back and forth between the theory and the code representations until you have a better grasp of the mathematics involved. It is definitely not necessary to be an expert on linear algebra and on matrix operations, but linear algebra can help to streamline the process of working with large amounts of data. For further reading on NumPy, check out the [documentation](https://docs.scipy.org/doc/numpy/user/index.html)."
   ]
  },
  {
   "cell_type": "markdown",
   "metadata": {},
   "source": [
    "*This presentation is for informational purposes only and does not constitute an offer to sell, a solicitation to buy, or a recommendation for any security; nor does it constitute an offer to provide investment advisory or other services by Quantopian, Inc. (\"Quantopian\"). Nothing contained herein constitutes investment advice or offers any opinion with respect to the suitability of any security, and any views expressed herein should not be taken as advice to buy, sell, or hold any security or as an endorsement of any security or company.  In preparing the information contained herein, Quantopian, Inc. has not taken into account the investment needs, objectives, and financial circumstances of any particular investor. Any views expressed and data illustrated herein were prepared based upon information, believed to be reliable, available to Quantopian, Inc. at the time of publication. Quantopian makes no guarantees as to their accuracy or completeness. All information is subject to change and may quickly become unreliable for various reasons, including changes in market conditions or economic circumstances.*"
   ]
  }
 ],
 "metadata": {
  "kernelspec": {
   "display_name": "Python 3.5",
   "language": "python",
   "name": "py35"
  },
  "language_info": {
   "codemirror_mode": {
    "name": "ipython",
    "version": 3
   },
   "file_extension": ".py",
   "mimetype": "text/x-python",
   "name": "python",
   "nbconvert_exporter": "python",
   "pygments_lexer": "ipython3",
   "version": "3.5.9"
  }
 },
 "nbformat": 4,
 "nbformat_minor": 1
}