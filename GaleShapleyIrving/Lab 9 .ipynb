{
  "nbformat": 4,
  "nbformat_minor": 0,
  "metadata": {
    "colab": {
      "name": "Lab 9.ipynb",
      "provenance": [],
      "collapsed_sections": [
        "HTXNsdaDzNT-",
        "NHj1UflvzRbi",
        "5E6JvIj2zgW5",
        "u-uqmhVWVou2",
        "60C_7L5FQljT",
        "1Xc8knkA98Qw",
        "Clev3_Oiz7rk",
        "B2snkQUL0amu",
        "MEyP0eaz02x-"
      ]
    },
    "kernelspec": {
      "name": "python3",
      "display_name": "Python 3"
    }
  },
  "cells": [
    {
      "cell_type": "code",
      "metadata": {
        "id": "TzFY9szir39X"
      },
      "source": [
        "import random\n",
        "import copy\n",
        "import matplotlib.pyplot as plt\n",
        "import numpy as np"
      ],
      "execution_count": 1,
      "outputs": []
    },
    {
      "cell_type": "code",
      "metadata": {
        "colab": {
          "base_uri": "https://localhost:8080/"
        },
        "id": "I0K359vD0sjT",
        "outputId": "42e6547a-d4b7-49c0-ef06-9309253b27d7"
      },
      "source": [
        "pip install -U fortran-magic"
      ],
      "execution_count": 2,
      "outputs": [
        {
          "output_type": "stream",
          "text": [
            "Requirement already up-to-date: fortran-magic in /usr/local/lib/python3.6/dist-packages (0.7)\n",
            "Requirement already satisfied, skipping upgrade: numpy in /usr/local/lib/python3.6/dist-packages (from fortran-magic) (1.18.5)\n",
            "Requirement already satisfied, skipping upgrade: ipython in /usr/local/lib/python3.6/dist-packages (from fortran-magic) (5.5.0)\n",
            "Requirement already satisfied, skipping upgrade: pickleshare in /usr/local/lib/python3.6/dist-packages (from ipython->fortran-magic) (0.7.5)\n",
            "Requirement already satisfied, skipping upgrade: setuptools>=18.5 in /usr/local/lib/python3.6/dist-packages (from ipython->fortran-magic) (50.3.2)\n",
            "Requirement already satisfied, skipping upgrade: prompt-toolkit<2.0.0,>=1.0.4 in /usr/local/lib/python3.6/dist-packages (from ipython->fortran-magic) (1.0.18)\n",
            "Requirement already satisfied, skipping upgrade: pygments in /usr/local/lib/python3.6/dist-packages (from ipython->fortran-magic) (2.6.1)\n",
            "Requirement already satisfied, skipping upgrade: simplegeneric>0.8 in /usr/local/lib/python3.6/dist-packages (from ipython->fortran-magic) (0.8.1)\n",
            "Requirement already satisfied, skipping upgrade: pexpect; sys_platform != \"win32\" in /usr/local/lib/python3.6/dist-packages (from ipython->fortran-magic) (4.8.0)\n",
            "Requirement already satisfied, skipping upgrade: decorator in /usr/local/lib/python3.6/dist-packages (from ipython->fortran-magic) (4.4.2)\n",
            "Requirement already satisfied, skipping upgrade: traitlets>=4.2 in /usr/local/lib/python3.6/dist-packages (from ipython->fortran-magic) (4.3.3)\n",
            "Requirement already satisfied, skipping upgrade: wcwidth in /usr/local/lib/python3.6/dist-packages (from prompt-toolkit<2.0.0,>=1.0.4->ipython->fortran-magic) (0.2.5)\n",
            "Requirement already satisfied, skipping upgrade: six>=1.9.0 in /usr/local/lib/python3.6/dist-packages (from prompt-toolkit<2.0.0,>=1.0.4->ipython->fortran-magic) (1.15.0)\n",
            "Requirement already satisfied, skipping upgrade: ptyprocess>=0.5 in /usr/local/lib/python3.6/dist-packages (from pexpect; sys_platform != \"win32\"->ipython->fortran-magic) (0.6.0)\n",
            "Requirement already satisfied, skipping upgrade: ipython-genutils in /usr/local/lib/python3.6/dist-packages (from traitlets>=4.2->ipython->fortran-magic) (0.2.0)\n"
          ],
          "name": "stdout"
        }
      ]
    },
    {
      "cell_type": "markdown",
      "metadata": {
        "id": "HTXNsdaDzNT-"
      },
      "source": [
        "# 1) Find the best and worst cases for the Gale-Shapley and Irving ( An Efficient Algorithm for the “Stable Roommates” Problem) Algorithms and run in Colab these algorithms for those cases for n=4 and 40."
      ]
    },
    {
      "cell_type": "markdown",
      "metadata": {
        "id": "NHj1UflvzRbi"
      },
      "source": [
        "### Algoritmo Gale-Shapley"
      ]
    },
    {
      "cell_type": "code",
      "metadata": {
        "id": "xmOE9wYFXT51"
      },
      "source": [
        "def wPrefersM1OverM(prefer, w, m, m1, n): \n",
        "    N = n  \n",
        "    for i in range(N): \n",
        "        if (prefer[w][i] == m1): \n",
        "            return True\n",
        "        if (prefer[w][i] == m): \n",
        "            return False\n",
        "def stableMarriage(prefer, n): \n",
        "    N = n\n",
        "    wPartner = [-1 for i in range(N)] \n",
        "    mFree = [False for i in range(N)] \n",
        "    freeCount = N \n",
        "    count = 0\n",
        "    while (freeCount > 0): \n",
        "        count += 1 \n",
        "        m = 0\n",
        "        while (m < N): \n",
        "            if (mFree[m] == False): \n",
        "                break\n",
        "            m += 1\n",
        "        i = 0\n",
        "        while i < N and mFree[m] == False: \n",
        "            w = prefer[m][i] \n",
        "            if (wPartner[w - N] == -1): \n",
        "                wPartner[w - N] = m \n",
        "                mFree[m] = True\n",
        "                freeCount -= 1\n",
        "  \n",
        "            else:  \n",
        "                m1 = wPartner[w - N] \n",
        "                if (wPrefersM1OverM(prefer, w, m, m1, n) == False): \n",
        "                    wPartner[w - N] = m \n",
        "                    mFree[m] = True\n",
        "                    mFree[m1] = False\n",
        "            i += 1\n",
        "    print(\"Woman \", \" Man\") \n",
        "    for i in range(N): \n",
        "        print(i + N, \"\\t\", wPartner[i]) \n",
        "\n",
        "    return count"
      ],
      "execution_count": 19,
      "outputs": []
    },
    {
      "cell_type": "markdown",
      "metadata": {
        "id": "5E6JvIj2zgW5"
      },
      "source": [
        "### Algoritmo Irving"
      ]
    },
    {
      "cell_type": "code",
      "metadata": {
        "id": "oKaFBs2dctl1"
      },
      "source": [
        "def getKey(lista, llave):\n",
        "    for key, val in lista.items():\n",
        "        if val == llave:\n",
        "            return key\n",
        "    return 0\n",
        "\n",
        "def ciclo(tabla):\n",
        "    tablaI = tabla[0]\n",
        "    tablaD = tabla[1]\n",
        "    if len(tablaI) > len(set(tablaI)):\n",
        "        return True\n",
        "    else:\n",
        "        return False\n",
        "\n",
        "def noEstable(prefer):\n",
        "    for i in prefer:\n",
        "        if len(prefer[i]) == 0:\n",
        "            return True\n",
        "    return False\n",
        "\n",
        "def esEstable(prefer):\n",
        "  for i in prefer:\n",
        "    if len(prefer[i]) != 1:\n",
        "      return False\n",
        "  return True\n",
        "\n",
        "def quitarCiclo(prefer, tabla):\n",
        "  npreferences = prefer\n",
        "  for i in range(len(tabla[0])-1):\n",
        "    npreferences[tabla[1][i]].remove(tabla[0][i+1])\n",
        "    npreferences[tabla[0][i+1]].remove(tabla[1][i])\n",
        "  return npreferences\n",
        "\n",
        "def paso1(prefer):\n",
        "  espera = []\n",
        "  propuestas={}\n",
        "  npropuestas={}\n",
        "  pasos=0\n",
        "  for i in prefer:\n",
        "    espera.append(i)\n",
        "    propuestas[i] = None\n",
        "    npropuestas[i] = 0\n",
        "  npreferences = copy.deepcopy(prefer)\n",
        "  while not len(espera)==0:\n",
        "    i=espera[0]\n",
        "    npropuestas[i]+=1\n",
        "    pasos+=1\n",
        "    if npropuestas[i]> len(propuestas):\n",
        "      print(\"No existe parejas estables.\")\n",
        "      return (False,False)\n",
        "    for j in prefer[i]:\n",
        "      if propuestas[j]==None:\n",
        "        del espera[0]\n",
        "        propuestas[j]=i\n",
        "        break\n",
        "      elif propuestas[j] != i:\n",
        "        actual = prefer[j].index(i)\n",
        "        otro = prefer[j].index(propuestas[j])\n",
        "        if actual < otro:\n",
        "          del espera[0]\n",
        "          espera.insert(0, propuestas[j])\n",
        "          npreferences[propuestas[j]].remove(j)\n",
        "          npreferences[j].remove(propuestas[j])\n",
        "          propuestas[j] = i\n",
        "          break\n",
        "        else:\n",
        "          npreferences[i].remove(j)\n",
        "          npreferences[j].remove(i)\n",
        "    prefer = copy.deepcopy(npreferences)\n",
        "  return (propuestas,prefer,pasos)\n",
        "\n",
        "def paso2(propuestas,prefer,pasos):\n",
        "  npreferences=copy.deepcopy(prefer)\n",
        "  for k in prefer:\n",
        "    indexpropuestas=npreferences[k].index(propuestas[k])\n",
        "    npreferences[k]= npreferences[k][:indexpropuestas+1]\n",
        "    #pasos+=1\n",
        "    for j in prefer:\n",
        "      key= getKey(propuestas,k)\n",
        "      if j != k and j != propuestas[k] and j != key:\n",
        "        try:\n",
        "          npreferences[j].remove(k)\n",
        "        except ValueError:\n",
        "          pass\n",
        "  return (npreferences,pasos)\n",
        "\n",
        "\n",
        "def paso3(prefer,pasos):\n",
        "  si=True\n",
        "  while True:\n",
        "    tabla=([],[])\n",
        "    if noEstable(prefer):\n",
        "      print(\"No existe parejas estables.\")\n",
        "      return False\n",
        "    for i in prefer:\n",
        "      if len(prefer[i]) >= 2 and si == True:\n",
        "        match1 = i\n",
        "        tabla[0].append(match1)\n",
        "        match2 = prefer[i][1]\n",
        "        tabla[1].append(match2)\n",
        "        si=False\n",
        "        pasos+=1\n",
        "      elif si==False:\n",
        "        if (ciclo(tabla)):\n",
        "          prefer=quitarCiclo(prefer,tabla)\n",
        "          si = True\n",
        "          pasos+=1\n",
        "          break\n",
        "        match1 = prefer[match2][-1]\n",
        "        tabla[0].append(match1)\n",
        "        match2 = prefer[match1][1]\n",
        "        tabla[1].append(match2)\n",
        "        pasos+=1\n",
        "    if esEstable(prefer):\n",
        "      return (prefer,pasos)\n",
        "\n",
        "  return False\n",
        "def irving(prefer):\n",
        "  a=paso1(prefer)\n",
        "  propuestas=a[0]\n",
        "  if propuestas==False:\n",
        "    return False\n",
        "  prefer1=a[1]\n",
        "  pasos=a[2]\n",
        "  prefer2=paso2(propuestas,prefer1,pasos)[0]\n",
        "  pasos=paso2(propuestas,prefer1,pasos)[1]\n",
        "  if prefer2==False:\n",
        "    return False\n",
        "  prefer3=paso3(prefer2,pasos)\n",
        "  matches=prefer3[0]\n",
        "  pasos=prefer3[1]\n",
        "  for i in matches:\n",
        "    a=i\n",
        "    for j in matches[i]:\n",
        "      print(a,\" es pareja de \", j)\n",
        "  print(\"Numero de operaciones = \",pasos)\n"
      ],
      "execution_count": 20,
      "outputs": []
    },
    {
      "cell_type": "markdown",
      "metadata": {
        "id": "u-uqmhVWVou2"
      },
      "source": [
        "## Mejores y peores casos Gale-Shapley "
      ]
    },
    {
      "cell_type": "markdown",
      "metadata": {
        "id": "nu6Du_I5V0MD"
      },
      "source": [
        "Peor caso para n = 4 y n = 40"
      ]
    },
    {
      "cell_type": "code",
      "metadata": {
        "colab": {
          "base_uri": "https://localhost:8080/"
        },
        "id": "2Vwux-5MV0TV",
        "outputId": "0b015b9f-7baf-4c93-8a88-d40d54f40f69"
      },
      "source": [
        "%%time \n",
        "#para n=40\n",
        "n=40\n",
        "prefer2 = []\n",
        "preferW = [i+n for i in range(n)]\n",
        "prefer2.append(preferW[:])\n",
        "for i in range(n-1):\n",
        "  a = preferW[1:n-1]\n",
        "  b = preferW[0]\n",
        "  preferW[n-2] = b\n",
        "  preferW[0:n-2] = a[:]\n",
        "  prefer2.append(preferW[:])\n",
        "preferM = [i for i in range(n)]\n",
        "for i in range(n):\n",
        "  a = preferM.pop(0)\n",
        "  preferM.append(a)\n",
        "  prefer2.append(preferM[:])\n",
        "print(\"Numero de iteraciones:\")\n",
        "print(stableMarriage(prefer2,n))"
      ],
      "execution_count": 21,
      "outputs": [
        {
          "output_type": "stream",
          "text": [
            "Numero de iteraciones:\n",
            "Woman   Man\n",
            "40 \t 1\n",
            "41 \t 2\n",
            "42 \t 3\n",
            "43 \t 4\n",
            "44 \t 5\n",
            "45 \t 6\n",
            "46 \t 7\n",
            "47 \t 8\n",
            "48 \t 9\n",
            "49 \t 10\n",
            "50 \t 11\n",
            "51 \t 12\n",
            "52 \t 13\n",
            "53 \t 14\n",
            "54 \t 15\n",
            "55 \t 16\n",
            "56 \t 17\n",
            "57 \t 18\n",
            "58 \t 19\n",
            "59 \t 20\n",
            "60 \t 21\n",
            "61 \t 22\n",
            "62 \t 23\n",
            "63 \t 24\n",
            "64 \t 25\n",
            "65 \t 26\n",
            "66 \t 27\n",
            "67 \t 28\n",
            "68 \t 29\n",
            "69 \t 30\n",
            "70 \t 31\n",
            "71 \t 32\n",
            "72 \t 33\n",
            "73 \t 34\n",
            "74 \t 35\n",
            "75 \t 36\n",
            "76 \t 37\n",
            "77 \t 38\n",
            "78 \t 39\n",
            "79 \t 0\n",
            "1561\n",
            "CPU times: user 73.7 ms, sys: 4.12 ms, total: 77.8 ms\n",
            "Wall time: 75.5 ms\n"
          ],
          "name": "stdout"
        }
      ]
    },
    {
      "cell_type": "code",
      "metadata": {
        "colab": {
          "base_uri": "https://localhost:8080/"
        },
        "id": "nLD5L1YLYlpi",
        "outputId": "ceb31868-b630-4c0b-882d-e68afb3d6ca2"
      },
      "source": [
        "%%time \n",
        "#para n=4\n",
        "n=4\n",
        "prefer2 = []\n",
        "preferW = [i+n for i in range(n)]\n",
        "prefer2.append(preferW[:])\n",
        "for i in range(n-1):\n",
        "  a = preferW[1:n-1]\n",
        "  b = preferW[0]\n",
        "  preferW[n-2] = b\n",
        "  preferW[0:n-2] = a[:]\n",
        "  prefer2.append(preferW[:])\n",
        "preferM = [i for i in range(n)]\n",
        "for i in range(n):\n",
        "  a = preferM.pop(0)\n",
        "  preferM.append(a)\n",
        "  prefer2.append(preferM[:])\n",
        "print(\"Numero de iteraciones:\")\n",
        "print(stableMarriage(prefer2,n))"
      ],
      "execution_count": 22,
      "outputs": [
        {
          "output_type": "stream",
          "text": [
            "Numero de iteraciones:\n",
            "Woman   Man\n",
            "4 \t 1\n",
            "5 \t 2\n",
            "6 \t 3\n",
            "7 \t 0\n",
            "13\n",
            "CPU times: user 890 µs, sys: 111 µs, total: 1 ms\n",
            "Wall time: 811 µs\n"
          ],
          "name": "stdout"
        }
      ]
    },
    {
      "cell_type": "markdown",
      "metadata": {
        "id": "i6bHUomtV0cM"
      },
      "source": [
        "Mejor caso para n = 4 y n = 40"
      ]
    },
    {
      "cell_type": "code",
      "metadata": {
        "id": "x6-clmevV0wz",
        "colab": {
          "base_uri": "https://localhost:8080/"
        },
        "outputId": "6ef84630-a731-428c-d5a8-8d20c2daef4a"
      },
      "source": [
        "%%time \n",
        "#para n=40\n",
        "preferM = []\n",
        "preferW = []\n",
        "prefer2 = []\n",
        "\n",
        "n=40\n",
        "\n",
        "# Fill man list\n",
        "preferM = [i+n for i in range(n)]\n",
        "for i in range(n):\n",
        "  ax = preferM.pop(0)\n",
        "  preferM.append(ax)\n",
        "  prefer2.append(preferM[:])\n",
        "\n",
        "# Fill womman list\n",
        "preferW = [i for i in range(n)]\n",
        "for i in range(n):\n",
        "  ax = preferW.pop(0)\n",
        "  preferW.append(ax)\n",
        "  prefer2.append(preferW[:])\n",
        "\n",
        "print(stableMarriage(prefer2,n))"
      ],
      "execution_count": 23,
      "outputs": [
        {
          "output_type": "stream",
          "text": [
            "Woman   Man\n",
            "40 \t 39\n",
            "41 \t 0\n",
            "42 \t 1\n",
            "43 \t 2\n",
            "44 \t 3\n",
            "45 \t 4\n",
            "46 \t 5\n",
            "47 \t 6\n",
            "48 \t 7\n",
            "49 \t 8\n",
            "50 \t 9\n",
            "51 \t 10\n",
            "52 \t 11\n",
            "53 \t 12\n",
            "54 \t 13\n",
            "55 \t 14\n",
            "56 \t 15\n",
            "57 \t 16\n",
            "58 \t 17\n",
            "59 \t 18\n",
            "60 \t 19\n",
            "61 \t 20\n",
            "62 \t 21\n",
            "63 \t 22\n",
            "64 \t 23\n",
            "65 \t 24\n",
            "66 \t 25\n",
            "67 \t 26\n",
            "68 \t 27\n",
            "69 \t 28\n",
            "70 \t 29\n",
            "71 \t 30\n",
            "72 \t 31\n",
            "73 \t 32\n",
            "74 \t 33\n",
            "75 \t 34\n",
            "76 \t 35\n",
            "77 \t 36\n",
            "78 \t 37\n",
            "79 \t 38\n",
            "40\n",
            "CPU times: user 9.8 ms, sys: 218 µs, total: 10 ms\n",
            "Wall time: 8.87 ms\n"
          ],
          "name": "stdout"
        }
      ]
    },
    {
      "cell_type": "code",
      "metadata": {
        "colab": {
          "base_uri": "https://localhost:8080/"
        },
        "id": "MutEvhegaffp",
        "outputId": "1777b89d-8752-4f85-cc39-e3820b0bc45d"
      },
      "source": [
        "%%time \n",
        "#para n=4\n",
        "preferM = []\n",
        "preferW = []\n",
        "prefer2 = []\n",
        "\n",
        "n=4\n",
        "preferM = [i+n for i in range(n)]\n",
        "for i in range(n):\n",
        "  ax = preferM.pop(0)\n",
        "  preferM.append(ax)\n",
        "  prefer2.append(preferM[:])\n",
        "\n",
        "preferW = [i for i in range(n)]\n",
        "for i in range(n):\n",
        "  ax = preferW.pop(0)\n",
        "  preferW.append(ax)\n",
        "  prefer2.append(preferW[:])\n",
        "\n",
        "print(stableMarriage(prefer2,n))"
      ],
      "execution_count": 24,
      "outputs": [
        {
          "output_type": "stream",
          "text": [
            "Woman   Man\n",
            "4 \t 3\n",
            "5 \t 0\n",
            "6 \t 1\n",
            "7 \t 2\n",
            "4\n",
            "CPU times: user 0 ns, sys: 691 µs, total: 691 µs\n",
            "Wall time: 523 µs\n"
          ],
          "name": "stdout"
        }
      ]
    },
    {
      "cell_type": "markdown",
      "metadata": {
        "id": "60C_7L5FQljT"
      },
      "source": [
        "## Peores y mejores caso Irving"
      ]
    },
    {
      "cell_type": "markdown",
      "metadata": {
        "id": "iDKq7z6VQ0OK"
      },
      "source": [
        "Peor caso para n = 4 y n = 40"
      ]
    },
    {
      "cell_type": "code",
      "metadata": {
        "id": "JxR57m5L3TeR",
        "colab": {
          "base_uri": "https://localhost:8080/"
        },
        "outputId": "5eba5f95-71cc-492a-f0c7-2680d00ff6e5"
      },
      "source": [
        "%%time \n",
        "# Para n=4\n",
        "prefern4={\"A\": [\"B\", \"C\", \"D\"],\n",
        "          \"B\": [\"C\", \"D\", \"A\"],\n",
        "          \"C\": [\"D\", \"A\", \"B\"],\n",
        "          \"D\": [\"A\", \"B\", \"C\"]}\n",
        "irving(prefern4)\n"
      ],
      "execution_count": 25,
      "outputs": [
        {
          "output_type": "stream",
          "text": [
            "A  es pareja de  D\n",
            "B  es pareja de  C\n",
            "C  es pareja de  B\n",
            "D  es pareja de  A\n",
            "Numero de operaciones =  8\n",
            "CPU times: user 2.48 ms, sys: 963 µs, total: 3.44 ms\n",
            "Wall time: 3.01 ms\n"
          ],
          "name": "stdout"
        }
      ]
    },
    {
      "cell_type": "code",
      "metadata": {
        "id": "Lg3rLpV1x2b8",
        "colab": {
          "base_uri": "https://localhost:8080/"
        },
        "outputId": "c843dfa6-56ce-4ab4-fa6b-37e388385dcd"
      },
      "source": [
        "%%time \n",
        "# Para n=40\n",
        "def worst(n):\n",
        "  prefer={}\n",
        "  for k in range(n):\n",
        "      ni=n\n",
        "      list=[]\n",
        "      for i in range(k+1,n):\n",
        "        list.append(i)\n",
        "      for j in range (k):\n",
        "        list.append(j)\n",
        "      prefer[k]=list\n",
        "  return prefer\n",
        "a=worst(40)\n",
        "irving(a)"
      ],
      "execution_count": 26,
      "outputs": [
        {
          "output_type": "stream",
          "text": [
            "0  es pareja de  39\n",
            "1  es pareja de  2\n",
            "2  es pareja de  1\n",
            "3  es pareja de  4\n",
            "4  es pareja de  3\n",
            "5  es pareja de  6\n",
            "6  es pareja de  5\n",
            "7  es pareja de  8\n",
            "8  es pareja de  7\n",
            "9  es pareja de  10\n",
            "10  es pareja de  9\n",
            "11  es pareja de  12\n",
            "12  es pareja de  11\n",
            "13  es pareja de  14\n",
            "14  es pareja de  13\n",
            "15  es pareja de  16\n",
            "16  es pareja de  15\n",
            "17  es pareja de  18\n",
            "18  es pareja de  17\n",
            "19  es pareja de  20\n",
            "20  es pareja de  19\n",
            "21  es pareja de  22\n",
            "22  es pareja de  21\n",
            "23  es pareja de  24\n",
            "24  es pareja de  23\n",
            "25  es pareja de  26\n",
            "26  es pareja de  25\n",
            "27  es pareja de  28\n",
            "28  es pareja de  27\n",
            "29  es pareja de  30\n",
            "30  es pareja de  29\n",
            "31  es pareja de  32\n",
            "32  es pareja de  31\n",
            "33  es pareja de  34\n",
            "34  es pareja de  33\n",
            "35  es pareja de  36\n",
            "36  es pareja de  35\n",
            "37  es pareja de  38\n",
            "38  es pareja de  37\n",
            "39  es pareja de  0\n",
            "Numero de operaciones =  62\n",
            "CPU times: user 58.5 ms, sys: 1.95 ms, total: 60.5 ms\n",
            "Wall time: 58.1 ms\n"
          ],
          "name": "stdout"
        }
      ]
    },
    {
      "cell_type": "markdown",
      "metadata": {
        "id": "FULlAUUwQ8-7"
      },
      "source": [
        "Mejor caso para n = 4 y n = 40"
      ]
    },
    {
      "cell_type": "code",
      "metadata": {
        "colab": {
          "base_uri": "https://localhost:8080/"
        },
        "id": "olqmjlk9Phet",
        "outputId": "12db6d38-4379-4f5a-fd6d-0f53dd74a99c"
      },
      "source": [
        "%%time\n",
        "#para n=4 \n",
        "prefern4={\"A\": [\"B\", \"C\", \"D\"],\n",
        "          \"B\": [\"A\", \"C\", \"D\"],\n",
        "          \"C\": [\"C\", \"A\", \"B\"],\n",
        "          \"D\": [\"D\", \"A\", \"B\"]}\n",
        "irving(prefern4)\n"
      ],
      "execution_count": 27,
      "outputs": [
        {
          "output_type": "stream",
          "text": [
            "A  es pareja de  B\n",
            "B  es pareja de  A\n",
            "C  es pareja de  C\n",
            "D  es pareja de  D\n",
            "Numero de operaciones =  4\n",
            "CPU times: user 991 µs, sys: 0 ns, total: 991 µs\n",
            "Wall time: 734 µs\n"
          ],
          "name": "stdout"
        }
      ]
    },
    {
      "cell_type": "code",
      "metadata": {
        "colab": {
          "base_uri": "https://localhost:8080/"
        },
        "id": "4yG9-76P5_kZ",
        "outputId": "2ce83ef0-a67e-412c-ab26-50386ec9bc26"
      },
      "source": [
        "%%time \n",
        "#para n=40\n",
        "def mejores40(n):\n",
        "  prefer={}\n",
        "  for k in range(n):\n",
        "      list=[]\n",
        "      list.append(n-k-1)\n",
        "      while not len(list)==n-1:\n",
        "        r=random.randint(0,n-1)\n",
        "        if r not in list and r!=k:\n",
        "          list.append(r)\n",
        "      prefer[k]=list\n",
        "  return prefer\n",
        "irving(mejores40(40))"
      ],
      "execution_count": 28,
      "outputs": [
        {
          "output_type": "stream",
          "text": [
            "0  es pareja de  39\n",
            "1  es pareja de  38\n",
            "2  es pareja de  37\n",
            "3  es pareja de  36\n",
            "4  es pareja de  35\n",
            "5  es pareja de  34\n",
            "6  es pareja de  33\n",
            "7  es pareja de  32\n",
            "8  es pareja de  31\n",
            "9  es pareja de  30\n",
            "10  es pareja de  29\n",
            "11  es pareja de  28\n",
            "12  es pareja de  27\n",
            "13  es pareja de  26\n",
            "14  es pareja de  25\n",
            "15  es pareja de  24\n",
            "16  es pareja de  23\n",
            "17  es pareja de  22\n",
            "18  es pareja de  21\n",
            "19  es pareja de  20\n",
            "20  es pareja de  19\n",
            "21  es pareja de  18\n",
            "22  es pareja de  17\n",
            "23  es pareja de  16\n",
            "24  es pareja de  15\n",
            "25  es pareja de  14\n",
            "26  es pareja de  13\n",
            "27  es pareja de  12\n",
            "28  es pareja de  11\n",
            "29  es pareja de  10\n",
            "30  es pareja de  9\n",
            "31  es pareja de  8\n",
            "32  es pareja de  7\n",
            "33  es pareja de  6\n",
            "34  es pareja de  5\n",
            "35  es pareja de  4\n",
            "36  es pareja de  3\n",
            "37  es pareja de  2\n",
            "38  es pareja de  1\n",
            "39  es pareja de  0\n",
            "Numero de operaciones =  40\n",
            "CPU times: user 70.8 ms, sys: 2.04 ms, total: 72.9 ms\n",
            "Wall time: 71.5 ms\n"
          ],
          "name": "stdout"
        }
      ]
    },
    {
      "cell_type": "markdown",
      "metadata": {
        "id": "D1ydPL4FzoOG"
      },
      "source": [
        "# 2) Run the Gale-Shapley Algorithm 100 times using random permutations as preference lists for n=4 and 40. Find the minimum, maximum and average number of iterations and plot the distribution of the number of iterations."
      ]
    },
    {
      "cell_type": "markdown",
      "metadata": {
        "id": "1Xc8knkA98Qw"
      },
      "source": [
        "### Gale-Shapley que solo retorna iteraciones"
      ]
    },
    {
      "cell_type": "code",
      "metadata": {
        "id": "cUi-xzBF97op"
      },
      "source": [
        "def stableMarriage(prefer, n): \n",
        "    N = n\n",
        "    wPartner = [-1 for i in range(N)] \n",
        "    mFree = [False for i in range(N)] \n",
        "    freeCount = N \n",
        "    count = 0\n",
        "    while (freeCount > 0): \n",
        "        count += 1 \n",
        "        m = 0\n",
        "        while (m < N): \n",
        "            if (mFree[m] == False): \n",
        "                break\n",
        "            m += 1\n",
        "        i = 0\n",
        "        while i < N and mFree[m] == False: \n",
        "            w = prefer[m][i] \n",
        "            if (wPartner[w - N] == -1): \n",
        "                wPartner[w - N] = m \n",
        "                mFree[m] = True\n",
        "                freeCount -= 1\n",
        "  \n",
        "            else:  \n",
        "                m1 = wPartner[w - N] \n",
        "                if (wPrefersM1OverM(prefer, w, m, m1, n) == False): \n",
        "                    wPartner[w - N] = m \n",
        "                    mFree[m] = True\n",
        "                    mFree[m1] = False\n",
        "            i += 1\n",
        "    return count"
      ],
      "execution_count": 29,
      "outputs": []
    },
    {
      "cell_type": "markdown",
      "metadata": {
        "id": "Clev3_Oiz7rk"
      },
      "source": [
        "### Generacion de matrices de preferencia"
      ]
    },
    {
      "cell_type": "code",
      "metadata": {
        "id": "BcXccHJfjMld"
      },
      "source": [
        "def preferMarriages(n):\n",
        "  prefer=[]\n",
        "  nn=2*n\n",
        "  for j in range(n):\n",
        "    list=[]\n",
        "    while not len(list)==n:\n",
        "      r=random.randint(0,n-1)\n",
        "      if r not in list: list.append(r)\n",
        "    prefer.insert(j,list)\n",
        "  for k in range(n):\n",
        "    list=[]\n",
        "    while not len(list)==n:\n",
        "      r=random.randint(n+1,nn)\n",
        "      if r not in list: list.append(r)\n",
        "    prefer.insert(n+k,list)\n",
        "  return prefer\n"
      ],
      "execution_count": 30,
      "outputs": []
    },
    {
      "cell_type": "markdown",
      "metadata": {
        "id": "B2snkQUL0amu"
      },
      "source": [
        "### Para n=40"
      ]
    },
    {
      "cell_type": "code",
      "metadata": {
        "colab": {
          "base_uri": "https://localhost:8080/"
        },
        "id": "_9VI6w420a1r",
        "outputId": "067003fc-78d0-453d-9f6d-8ad32ce17c36"
      },
      "source": [
        "def promedio(lst): \n",
        "    return sum(lst) / len(lst) \n",
        "\n",
        "# 100 times for N = 40\n",
        "lot = []\n",
        "for i in range(100):\n",
        "  lot.append(stableMarriage(preferMarriages(40),40))\n",
        "\n",
        "aux = lot\n",
        "res = []\n",
        "Ma = 0\n",
        "Mi = 100\n",
        "#Minimun, Maximun and Average\n",
        "for i in aux:\n",
        "  x = aux.pop(0)\n",
        "  if (x > Ma):\n",
        "    Ma = x\n",
        "  if (x < Mi):\n",
        "    Mi = x\n",
        "print(\"Maximo: \", Ma, \" Minimo: \", Mi, \" Promedio: \", promedio(lot))"
      ],
      "execution_count": 31,
      "outputs": [
        {
          "output_type": "stream",
          "text": [
            "Maximo:  93  Minimo:  59  Promedio:  78.54\n"
          ],
          "name": "stdout"
        }
      ]
    },
    {
      "cell_type": "code",
      "metadata": {
        "colab": {
          "base_uri": "https://localhost:8080/",
          "height": 0
        },
        "id": "6qD4w1I702kw",
        "outputId": "b6978dec-0125-4d6a-8936-d7dddfcdecf0"
      },
      "source": [
        "plt.plot(lot)   # Dibuja el gráfico\n",
        "plt.title(\"Título\")   # Establece el título del gráfico\n",
        "plt.xlabel(\"Total\")   # Establece el título del eje x\n",
        "plt.ylabel(\"Times\")   # Establece el título del eje y"
      ],
      "execution_count": 32,
      "outputs": [
        {
          "output_type": "execute_result",
          "data": {
            "text/plain": [
              "Text(0, 0.5, 'Times')"
            ]
          },
          "metadata": {
            "tags": []
          },
          "execution_count": 32
        },
        {
          "output_type": "display_data",
          "data": {
            "image/png": "[encoded data removed]",
            "text/plain": [
              "<Figure size 432x288 with 1 Axes>"
            ]
          },
          "metadata": {
            "tags": [],
            "needs_background": "light"
          }
        }
      ]
    },
    {
      "cell_type": "markdown",
      "metadata": {
        "id": "MEyP0eaz02x-"
      },
      "source": [
        "### Para n=4"
      ]
    },
    {
      "cell_type": "code",
      "metadata": {
        "colab": {
          "base_uri": "https://localhost:8080/"
        },
        "id": "0AO20Ty807cG",
        "outputId": "f55e84a0-667a-4ca6-f253-cc5d8ca6ed85"
      },
      "source": [
        "# 100 times for N = 4\n",
        "def promedio(lst): \n",
        "    return sum(lst) / len(lst) \n",
        "lot = []\n",
        "for i in range(100):\n",
        "  lot.append(stableMarriage(preferMarriages(4),4))\n",
        "\n",
        "aux = lot\n",
        "res = []\n",
        "Ma = 0\n",
        "Mi = 100\n",
        "#Minimun, Maximun and Average\n",
        "for i in aux:\n",
        "  x = aux.pop(0)\n",
        "  if (x > Ma):\n",
        "    Ma = x\n",
        "  if (x < Mi):\n",
        "    Mi = x\n",
        "print(\"Maximo: \", Ma, \" Minimo: \", Mi, \" Promedio: \", promedio(lot))"
      ],
      "execution_count": 33,
      "outputs": [
        {
          "output_type": "stream",
          "text": [
            "Maximo:  8  Minimo:  4  Promedio:  5.08\n"
          ],
          "name": "stdout"
        }
      ]
    },
    {
      "cell_type": "code",
      "metadata": {
        "colab": {
          "base_uri": "https://localhost:8080/",
          "height": 312
        },
        "id": "uGs9TCe_1JHh",
        "outputId": "3d84eb62-9720-4368-bd09-37a2d442763c"
      },
      "source": [
        "plt.plot(lot)   # Dibuja el gráfico\n",
        "plt.title(\"Título\")   # Establece el título del gráfico\n",
        "plt.xlabel(\"Total\")   # Establece el título del eje x\n",
        "plt.ylabel(\"Times\")   # Establece el título del eje y"
      ],
      "execution_count": 34,
      "outputs": [
        {
          "output_type": "execute_result",
          "data": {
            "text/plain": [
              "Text(0, 0.5, 'Times')"
            ]
          },
          "metadata": {
            "tags": []
          },
          "execution_count": 34
        },
        {
          "output_type": "display_data",
          "data": {
            "image/png": "[encoded data removed]",
            "text/plain": [
              "<Figure size 432x288 with 1 Axes>"
            ]
          },
          "metadata": {
            "tags": [],
            "needs_background": "light"
          }
        }
      ]
    }
  ]
}